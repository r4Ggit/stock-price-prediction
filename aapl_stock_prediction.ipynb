{
  "cells": [
    {
      "cell_type": "code",
      "execution_count": 4,
      "metadata": {},
      "outputs": [],
      "source": [
        "# !pip install --upgrade pip\n",
        "# !pip install pandas_datareader yfinance numpy pandas scikit-learn keras matplotlib\n",
        "# !pip install tensorflow\n",
        "# !pip install --upgrade statsmodels\n",
        "# !pip install --upgrade tensorflow\n",
        "# !pip install streamlit_jupyter\n",
        "# !pip install yfinance --upgrade --no-cache-dir\n",
        "\n"
      ]
    },
    {
      "cell_type": "markdown",
      "metadata": {},
      "source": [
        "LSTM MODEL for artificial intelligence Stock investing Robot, InvestiBot"
      ]
    },
    {
      "cell_type": "code",
      "execution_count": 5,
      "metadata": {
        "id": "k3Sd6PINtyyn"
      },
      "outputs": [],
      "source": [
        "# To predict price of APPL\n",
        "import math\n",
        "from pandas_datareader import data as pdr\n",
        "import numpy as np\n",
        "import pandas as pd\n",
        "import yfinance as yf\n",
        "import tensorflow as tf\n",
        "from tensorflow import keras\n",
        "\n",
        "from tensorflow.keras.callbacks import EarlyStopping\n",
        "from keras.callbacks import EarlyStopping\n",
        "from sklearn.preprocessing import MinMaxScaler\n",
        "from keras.models import Sequential, load_model\n",
        "from keras.layers import Dense, LSTM, Dropout, Flatten, Reshape\n",
        "import matplotlib.pyplot as plt\n",
        "import yfinance as yf\n",
        "from datetime import date\n",
        "plt.style.use('fivethirtyeight')"
      ]
    },
    {
      "cell_type": "markdown",
      "metadata": {
        "id": "kVWL6Vr9vOrV"
      },
      "source": [
        "#Get the stock price\n",
        "df = web.DataReader('AAPL', data_source='yahoo', start='2013-01-01', end='2023-12-31')\n",
        "df"
      ]
    },
    {
      "cell_type": "code",
      "execution_count": 6,
      "metadata": {},
      "outputs": [
        {
          "name": "stdout",
          "output_type": "stream",
          "text": [
            "Ticker 'AAPL' data not found.\n"
          ]
        }
      ],
      "source": [
        "import pandas as pd\n",
        "import glob\n",
        "\n",
        "# Define the directory containing CSV files\n",
        "data_dir = \"/Users/charles/Desktop/AI_investment_Robot/TradingRobot/Dataset/usa-stocks-prices/D1\"  # Replace with the actual path\n",
        "\n",
        "# Get all CSV filenames\n",
        "csv_files = glob.glob(f\"{data_dir}/*.US_D1.csv\")\n",
        "\n",
        "# Initialize an empty dictionary to store filtered data\n",
        "all_closes = {}\n",
        "\n",
        "# Loop through each CSV file\n",
        "for filename in csv_files:\n",
        "  try:\n",
        "    ticker = filename.split(\".\")[0]\n",
        "\n",
        "    # Read the CSV file\n",
        "    data = pd.read_csv(filename)\n",
        "\n",
        "    # Extract the \"close\" column (assuming it exists)\n",
        "    closes = data[\"close\"]\n",
        "\n",
        "    # Add the \"close\" series to the dictionary with ticker as key\n",
        "    all_closes[ticker] = closes\n",
        "  except FileNotFoundError:\n",
        "    print(f\"File not found: {filename}\")\n",
        "  except KeyError:\n",
        "    print(f\"Column 'close' not found in: {filename}\")\n",
        "\n",
        "# Print or process the filtered data\n",
        "if all_closes:\n",
        "  # Option 1: Access data by ticker symbol\n",
        "  specific_ticker = \"AAPL\"  # Replace with desired ticker\n",
        "  if specific_ticker in all_closes:\n",
        "    print(f\"Close prices for {specific_ticker}:\")\n",
        "    print(all_closes[specific_ticker].head())  # Display first few rows\n",
        "  else:\n",
        "    print(f\"Ticker '{specific_ticker}' data not found.\")\n",
        "\n",
        "  # Option 2: Process all data (consider looping through dictionary)\n",
        "  # ...\n",
        "else:\n",
        "  print(\"No 'close' data found in any CSV files.\")"
      ]
    },
    {
      "cell_type": "code",
      "execution_count": 7,
      "metadata": {},
      "outputs": [],
      "source": [
        "# import streamlit as st\n",
        "\n",
        "# from streamlit_jupyter import StreamlitPatcher, tqdm\n",
        "\n",
        "# StreamlitPatcher().jupyter()  "
      ]
    },
    {
      "cell_type": "code",
      "execution_count": 8,
      "metadata": {
        "colab": {
          "base_uri": "https://localhost:8080/",
          "height": 464
        },
        "id": "Y-mzOJC42PRK",
        "outputId": "a1ba5804-0b67-4c55-f952-7d787b6a0ff4"
      },
      "outputs": [
        {
          "name": "stdout",
          "output_type": "stream",
          "text": [
            "                                 Open        High         Low       Close  \\\n",
            "Date                                                                        \n",
            "2014-01-02 00:00:00-05:00   17.352858   17.395016   17.238563   17.273226   \n",
            "2014-01-03 00:00:00-05:00   17.264801   17.291032   16.876634   16.893810   \n",
            "2014-01-06 00:00:00-05:00   16.783571   17.075553   16.663342   16.985929   \n",
            "2014-01-07 00:00:00-05:00   16.998109   17.049322   16.798249   16.864452   \n",
            "2014-01-08 00:00:00-05:00   16.826040   17.036831   16.822294   16.971252   \n",
            "...                               ...         ...         ...         ...   \n",
            "2024-07-23 00:00:00-04:00  224.369995  226.940002  222.679993  225.009995   \n",
            "2024-07-24 00:00:00-04:00  224.000000  224.800003  217.130005  218.539993   \n",
            "2024-07-25 00:00:00-04:00  218.929993  220.850006  214.619995  217.490005   \n",
            "2024-07-26 00:00:00-04:00  218.699997  219.490005  216.009995  217.960007   \n",
            "2024-07-29 00:00:00-04:00  216.960007  219.300003  215.750000  218.240005   \n",
            "\n",
            "                              Volume  Dividends  Stock Splits  \n",
            "Date                                                           \n",
            "2014-01-02 00:00:00-05:00  234684800        0.0           0.0  \n",
            "2014-01-03 00:00:00-05:00  392467600        0.0           0.0  \n",
            "2014-01-06 00:00:00-05:00  412610800        0.0           0.0  \n",
            "2014-01-07 00:00:00-05:00  317209200        0.0           0.0  \n",
            "2014-01-08 00:00:00-05:00  258529600        0.0           0.0  \n",
            "...                              ...        ...           ...  \n",
            "2024-07-23 00:00:00-04:00   39960300        0.0           0.0  \n",
            "2024-07-24 00:00:00-04:00   61777600        0.0           0.0  \n",
            "2024-07-25 00:00:00-04:00   51391200        0.0           0.0  \n",
            "2024-07-26 00:00:00-04:00   41601300        0.0           0.0  \n",
            "2024-07-29 00:00:00-04:00   36261400        0.0           0.0  \n",
            "\n",
            "[2660 rows x 7 columns]\n"
          ]
        }
      ],
      "source": [
        "# Download AAPL data\n",
        "ticker = yf.Ticker(\"AAPL\")\n",
        "df = ticker.history(start=\"2014-01-01\", end=date.today())  # Use date.today() for current date\n",
        "\n",
        "# Display the DataFrame\n",
        "print(df)"
      ]
    },
    {
      "cell_type": "code",
      "execution_count": 9,
      "metadata": {
        "colab": {
          "base_uri": "https://localhost:8080/"
        },
        "id": "fZMBTGX63OfN",
        "outputId": "c2ff1c7d-77aa-4dea-8cdf-38544e08376c"
      },
      "outputs": [
        {
          "data": {
            "text/plain": [
              "(2660, 7)"
            ]
          },
          "execution_count": 9,
          "metadata": {},
          "output_type": "execute_result"
        }
      ],
      "source": [
        "df.shape"
      ]
    },
    {
      "cell_type": "code",
      "execution_count": 10,
      "metadata": {
        "colab": {
          "base_uri": "https://localhost:8080/",
          "height": 575
        },
        "id": "KFBDUK5_3cjR",
        "outputId": "37e3194f-a333-441e-87a8-8ff68b3c7dd0"
      },
      "outputs": [
        {
          "data": {
            "text/plain": [
              "Text(0, 0.5, 'Close Price in USD')"
            ]
          },
          "execution_count": 10,
          "metadata": {},
          "output_type": "execute_result"
        },
        {
          "data": {
            "image/png": "[encoded data removed]",
            "text/plain": [
              "<Figure size 1600x800 with 1 Axes>"
            ]
          },
          "metadata": {},
          "output_type": "display_data"
        }
      ],
      "source": [
        "# visualise the price history\n",
        "plt.figure(figsize=(16,8))\n",
        "plt.title('AAPL Closing Price')\n",
        "plt.plot(df['Close'],'r')\n",
        "#plt.plot(dt['High'],'g^')\n",
        "plt.xlabel('Date',fontsize=18)\n",
        "plt.ylabel('Close Price in USD',fontsize=18)"
      ]
    },
    {
      "cell_type": "code",
      "execution_count": 11,
      "metadata": {
        "colab": {
          "base_uri": "https://localhost:8080/"
        },
        "id": "q6ENIdvo4z8i",
        "outputId": "d40d09c9-ab0c-4d62-df70-97f03b8b39db"
      },
      "outputs": [],
      "source": [
        "#Create a new data frame with only the Close Column\n",
        "data = df.filter(['Close'])\n",
        "#convert to numpy array\n",
        "dataset = data.values\n",
        "#Get a number rows to train the model on\n",
        "training_data_len = math.ceil(len(dataset)*.8)\n",
        "training_data_len\n",
        "#dataset\n",
        "#data.all\n",
        "#Extract dates of the data from the close values\n",
        "dates = df.index.to_numpy()"
      ]
    },
    {
      "cell_type": "code",
      "execution_count": 12,
      "metadata": {
        "colab": {
          "base_uri": "https://localhost:8080/"
        },
        "id": "t5QSAQgs6QBu",
        "outputId": "520f41b2-cd8f-40fa-d9d5-60d4a397a1fe"
      },
      "outputs": [
        {
          "data": {
            "text/plain": [
              "array([[0.0076    ],\n",
              "       [0.00586919],\n",
              "       [0.00628942],\n",
              "       ...,\n",
              "       [0.92094439],\n",
              "       [0.92308843],\n",
              "       [0.92436572]])"
            ]
          },
          "execution_count": 12,
          "metadata": {},
          "output_type": "execute_result"
        }
      ],
      "source": [
        "#Scale the data\n",
        "scaler = MinMaxScaler(feature_range=(0,1))\n",
        "scaled_data = scaler.fit_transform(dataset)\n",
        "\n",
        "scaled_data"
      ]
    },
    {
      "cell_type": "code",
      "execution_count": 13,
      "metadata": {},
      "outputs": [],
      "source": [
        "\n",
        "# total_data_len = len(scaled_data)\n",
        "\n",
        "# # Calculate the lengths for training, validation, and testing data\n",
        "# validation_data_len = math.ceil(total_data_len *.2)\n",
        "\n",
        "# # # Calculate the starting index for the testing data\n",
        "# # testing_data_start_index = training_data_len + validation_data_len\n",
        "\n",
        "# # # Calculate the remaining data length for testing\n",
        "# # testing_data_len = total_data_len - training_data_len - validation_data_len\n",
        "\n",
        "# # Split the data\n",
        "# train_data = scaled_data[0:training_data_len]\n",
        "# # val_data = scaled_data[training_data_len:training_data_len + validation_data_len]\n",
        "# test_data = scaled_data[training_data_len:]\n",
        "\n",
        "# # Print the lengths to verify\n",
        "# print(f'Training data length: {len(train_data)}')\n",
        "# # print(f'Validation data length: {len(val_data)}')\n",
        "# print(f'Testing data length: {len(test_data)}')"
      ]
    },
    {
      "cell_type": "code",
      "execution_count": 14,
      "metadata": {},
      "outputs": [],
      "source": [
        "train_data = scaled_data[0:training_data_len,:]\n",
        "x_train = []\n",
        "y_train = []"
      ]
    },
    {
      "cell_type": "code",
      "execution_count": 15,
      "metadata": {
        "colab": {
          "base_uri": "https://localhost:8080/"
        },
        "id": "_Isq7xEfHJeb",
        "outputId": "68528042-be8e-4901-f040-07821808d002"
      },
      "outputs": [
        {
          "name": "stdout",
          "output_type": "stream",
          "text": [
            "[array([0.0076    , 0.00586919, 0.00628942, 0.00573526, 0.00622246,\n",
            "       0.0052338 , 0.00472381, 0.00512128, 0.00663984, 0.00820262,\n",
            "       0.00775955, 0.00582504, 0.00702163, 0.00736923, 0.00803449,\n",
            "       0.00659426, 0.00722534, 0.00095732, 0.00013816, 0.        ,\n",
            "       0.0001168 , 0.00024928, 0.00128352, 0.00182487, 0.00225047,\n",
            "       0.003278  , 0.00461221, 0.0056111 , 0.00560532, 0.00682489,\n",
            "       0.00676181, 0.00704846, 0.00581315, 0.00492173, 0.00407622,\n",
            "       0.00440584, 0.00361909, 0.00294409, 0.00442304, 0.0042181 ,\n",
            "       0.00443595, 0.00493466, 0.00509514, 0.00486443, 0.00482   ,\n",
            "       0.0048888 , 0.0056297 , 0.00570422, 0.00485011, 0.00399597,\n",
            "       0.00428974, 0.00495758, 0.00493753, 0.00457064, 0.00516826,\n",
            "       0.00607396, 0.00690516, 0.00615851, 0.00582602, 0.00574004])]\n",
            "[0.005722838599536373]\n",
            "[array([0.0076    , 0.00586919, 0.00628942, 0.00573526, 0.00622246,\n",
            "       0.0052338 , 0.00472381, 0.00512128, 0.00663984, 0.00820262,\n",
            "       0.00775955, 0.00582504, 0.00702163, 0.00736923, 0.00803449,\n",
            "       0.00659426, 0.00722534, 0.00095732, 0.00013816, 0.        ,\n",
            "       0.0001168 , 0.00024928, 0.00128352, 0.00182487, 0.00225047,\n",
            "       0.003278  , 0.00461221, 0.0056111 , 0.00560532, 0.00682489,\n",
            "       0.00676181, 0.00704846, 0.00581315, 0.00492173, 0.00407622,\n",
            "       0.00440584, 0.00361909, 0.00294409, 0.00442304, 0.0042181 ,\n",
            "       0.00443595, 0.00493466, 0.00509514, 0.00486443, 0.00482   ,\n",
            "       0.0048888 , 0.0056297 , 0.00570422, 0.00485011, 0.00399597,\n",
            "       0.00428974, 0.00495758, 0.00493753, 0.00457064, 0.00516826,\n",
            "       0.00607396, 0.00690516, 0.00615851, 0.00582602, 0.00574004]), array([0.00586919, 0.00628942, 0.00573526, 0.00622246, 0.0052338 ,\n",
            "       0.00472381, 0.00512128, 0.00663984, 0.00820262, 0.00775955,\n",
            "       0.00582504, 0.00702163, 0.00736923, 0.00803449, 0.00659426,\n",
            "       0.00722534, 0.00095732, 0.00013816, 0.        , 0.0001168 ,\n",
            "       0.00024928, 0.00128352, 0.00182487, 0.00225047, 0.003278  ,\n",
            "       0.00461221, 0.0056111 , 0.00560532, 0.00682489, 0.00676181,\n",
            "       0.00704846, 0.00581315, 0.00492173, 0.00407622, 0.00440584,\n",
            "       0.00361909, 0.00294409, 0.00442304, 0.0042181 , 0.00443595,\n",
            "       0.00493466, 0.00509514, 0.00486443, 0.00482   , 0.0048888 ,\n",
            "       0.0056297 , 0.00570422, 0.00485011, 0.00399597, 0.00428974,\n",
            "       0.00495758, 0.00493753, 0.00457064, 0.00516826, 0.00607396,\n",
            "       0.00690516, 0.00615851, 0.00582602, 0.00574004, 0.00572284])]\n",
            "[0.005722838599536373, 0.006426489082574011]\n",
            "[Timestamp('2014-01-02 00:00:00-0500', tz='America/New_York')\n",
            " Timestamp('2014-01-03 00:00:00-0500', tz='America/New_York')\n",
            " Timestamp('2014-01-06 00:00:00-0500', tz='America/New_York') ...\n",
            " Timestamp('2024-07-25 00:00:00-0400', tz='America/New_York')\n",
            " Timestamp('2024-07-26 00:00:00-0400', tz='America/New_York')\n",
            " Timestamp('2024-07-29 00:00:00-0400', tz='America/New_York')]\n"
          ]
        }
      ],
      "source": [
        "x_train = []\n",
        "y_train = []\n",
        "\n",
        "for i in range(60, len(train_data)):\n",
        "  x_train.append(train_data[i-60:i,0])\n",
        "  y_train.append(train_data[i,0])\n",
        "  if i<=61:\n",
        "    print(x_train)\n",
        "    print(y_train)\n",
        "    \n",
        "print(dates)\n",
        "    "
      ]
    },
    {
      "cell_type": "code",
      "execution_count": 16,
      "metadata": {
        "colab": {
          "base_uri": "https://localhost:8080/"
        },
        "id": "E_Ayfror-rGH",
        "outputId": "5592d1f3-79a8-4844-c46a-40cd4235ccf9"
      },
      "outputs": [
        {
          "data": {
            "text/plain": [
              "(2068, 60, 1)"
            ]
          },
          "execution_count": 16,
          "metadata": {},
          "output_type": "execute_result"
        }
      ],
      "source": [
        "#convert to numpy arrays\n",
        "x_train, y_train = np.array(x_train), np.array(y_train)\n",
        "x_train = np.reshape(x_train,(x_train.shape[0], x_train.shape[1],1))\n",
        "x_train.shape"
      ]
    },
    {
      "cell_type": "markdown",
      "metadata": {},
      "source": [
        "#### rolling window but not valid due to insufficient RAM"
      ]
    },
    {
      "cell_type": "code",
      "execution_count": 17,
      "metadata": {},
      "outputs": [],
      "source": [
        "# step_size = 1\n",
        "# window_size = 30\n",
        "# pred_horizon = 30\n",
        "# def create_train_val_sets(data, start_idx, window_size, pred_horizon, step_size):\n",
        "#   train_set = []\n",
        "#   val_set = []\n",
        "\n",
        "#   # Assuming X is a list of features for each data point in data\n",
        "#   for start_idx in range(0, len(data) - window_size - pred_horizon + 1, step_size):\n",
        "#     # Use start_idx for indexing (corrected)\n",
        "#     window = data[start_idx:start_idx + window_size]\n",
        "\n",
        "#     # Extract features based on feature selection\n",
        "#     train_sample_x = window  # Extract features as NumPy array\n",
        "\n",
        "#     # Create validation sample (target at the end of the window + pred_horizon)\n",
        "#     val_sample_y = data[start_idx + window_size + pred_horizon - 1]\n",
        "\n",
        "#     train_set.append(train_sample_x)\n",
        "#     val_set.append(val_sample_y)\n",
        "\n",
        "#   return train_set, val_set\n",
        "\n",
        "# # Accumulate training and validation sets\n",
        "# all_train_x = []\n",
        "# all_train_y = []\n",
        "# all_val_x = []\n",
        "# all_val_y = []\n",
        "\n",
        "# # Loop through train_data with sliding window for training dataset creation\n",
        "# for start_idx in range(0, len(train_data) - window_size - pred_horizon + 1, step_size):\n",
        "#   train_set, train_set_y = create_train_val_sets(train_data, start_idx, window_size, pred_horizon, step_size)\n",
        "#   all_train_x.extend(train_set)\n",
        "#   all_train_y.extend([train_set_y] * len(train_set))\n",
        "\n",
        "# # Loop through val_data for validation set creation\n",
        "# for start_idx in range(0, len(val_data) - window_size - pred_horizon + 1, step_size):\n",
        "#   val_set_x, val_set_y = create_train_val_sets(val_data, start_idx, window_size, pred_horizon, step_size)\n",
        "#   all_val_x.extend(val_set_x)\n",
        "#   all_val_y.append(val_set_y) "
      ]
    },
    {
      "cell_type": "code",
      "execution_count": 18,
      "metadata": {},
      "outputs": [
        {
          "name": "stderr",
          "output_type": "stream",
          "text": [
            "C:\\Users\\charles\\AppData\\Local\\Packages\\PythonSoftwareFoundation.Python.3.11_qbz5n2kfra8p0\\LocalCache\\local-packages\\Python311\\site-packages\\keras\\src\\layers\\rnn\\rnn.py:204: UserWarning: Do not pass an `input_shape`/`input_dim` argument to a layer. When using Sequential models, prefer using an `Input(shape)` object as the first layer in the model instead.\n",
            "  super().__init__(**kwargs)\n"
          ]
        }
      ],
      "source": [
        "model = Sequential()\n",
        "model.add(LSTM(50,return_sequences=True, input_shape=(x_train.shape[1], 1)))\n",
        "model.add(LSTM(50,return_sequences=False))\n",
        "model.add(Dense(25))\n",
        "model.add(Dense(1))"
      ]
    },
    {
      "cell_type": "code",
      "execution_count": 19,
      "metadata": {
        "id": "TM3N4gI9_sTL"
      },
      "outputs": [],
      "source": [
        "# #Build LSTM model\n",
        "# model = Sequential()\n",
        "# model.add(LSTM(50,return_sequences=True, input_shape=(x_train.shape[1], 1)))\n",
        "# model.add(Dropout(0.2))\n",
        "# model.add(LSTM(50,return_sequences=False))\n",
        "# model.add(Dropout(0.2))  # Add dropout layer\n",
        "# model.add(Dense(25))\n",
        "# model.add(Dense(1))"
      ]
    },
    {
      "cell_type": "code",
      "execution_count": 20,
      "metadata": {
        "id": "AYn_amnzBAlb"
      },
      "outputs": [],
      "source": [
        "#Compile the model\n",
        "model.compile(optimizer='adam',loss='mean_squared_error', metrics=['accuracy'])"
      ]
    },
    {
      "cell_type": "markdown",
      "metadata": {},
      "source": [
        "#### callback"
      ]
    },
    {
      "cell_type": "code",
      "execution_count": 21,
      "metadata": {},
      "outputs": [],
      "source": [
        "# here we will save all our trained models\n",
        "list_for_models = []\n",
        "class SaveAllModels(tf.keras.callbacks.Callback):\n",
        "\n",
        "    def __init__(self, external_list):\n",
        "        self.list_obj = external_list\n",
        "    \n",
        "    def on_epoch_end(self, epoch, logs=None):\n",
        "        self.list_obj.append({\n",
        "            \"model\": self.model,\n",
        "            \"loss\": logs['loss'],\n",
        "            \"accuracy\": logs['accuracy'],\n",
        "            \"val_loss\": logs['val_loss'],\n",
        "            \"val_accuracy\": logs['val_accuracy'],\n",
        "        })\n",
        "\n",
        "\n",
        "save_all_models_callback = SaveAllModels(list_for_models)\n",
        "\n",
        "callbacks = [\n",
        "                save_all_models_callback, # ModelCheckpoint(\" 'model_{epoch:1d}.hdf5'\"),\n",
        "            ]\n"
      ]
    },
    {
      "cell_type": "markdown",
      "metadata": {},
      "source": [
        "### Rolling window prediction Model "
      ]
    },
    {
      "cell_type": "code",
      "execution_count": 22,
      "metadata": {},
      "outputs": [],
      "source": [
        "\n",
        "# # Now you have separate training and validation sets in all_train_x, all_train_y, all_val_x, all_val_y\n",
        "# batch_size = 32\n",
        "\n",
        "# model.fit(all_train_x, all_train_y, epochs=10, batch_size=batch_size)\n",
        "\n",
        "# validation_loss, validation_accuracy = model.evaluate(all_val_x, all_val_y)\n",
        "# print(\"Validation Loss:\", validation_loss)\n",
        "# print(\"Validation Accuracy:\", validation_accuracy)"
      ]
    },
    {
      "cell_type": "code",
      "execution_count": 23,
      "metadata": {},
      "outputs": [
        {
          "name": "stdout",
          "output_type": "stream",
          "text": [
            "Epoch 1/100\n",
            "\u001b[1m52/52\u001b[0m \u001b[32m━━━━━━━━━━━━━━━━━━━━\u001b[0m\u001b[37m\u001b[0m \u001b[1m4s\u001b[0m 29ms/step - accuracy: 0.0000e+00 - loss: 0.0027 - val_accuracy: 0.0000e+00 - val_loss: 0.0020\n",
            "Epoch 2/100\n",
            "\u001b[1m52/52\u001b[0m \u001b[32m━━━━━━━━━━━━━━━━━━━━\u001b[0m\u001b[37m\u001b[0m \u001b[1m1s\u001b[0m 23ms/step - accuracy: 0.0000e+00 - loss: 1.1212e-04 - val_accuracy: 0.0000e+00 - val_loss: 6.8404e-04\n",
            "Epoch 3/100\n",
            "\u001b[1m52/52\u001b[0m \u001b[32m━━━━━━━━━━━━━━━━━━━━\u001b[0m\u001b[37m\u001b[0m \u001b[1m1s\u001b[0m 22ms/step - accuracy: 0.0000e+00 - loss: 1.1217e-04 - val_accuracy: 0.0000e+00 - val_loss: 9.8003e-04\n",
            "Epoch 4/100\n",
            "\u001b[1m52/52\u001b[0m \u001b[32m━━━━━━━━━━━━━━━━━━━━\u001b[0m\u001b[37m\u001b[0m \u001b[1m1s\u001b[0m 22ms/step - accuracy: 0.0000e+00 - loss: 9.9500e-05 - val_accuracy: 0.0000e+00 - val_loss: 6.0976e-04\n",
            "Epoch 5/100\n",
            "\u001b[1m52/52\u001b[0m \u001b[32m━━━━━━━━━━━━━━━━━━━━\u001b[0m\u001b[37m\u001b[0m \u001b[1m1s\u001b[0m 23ms/step - accuracy: 0.0000e+00 - loss: 1.1820e-04 - val_accuracy: 0.0000e+00 - val_loss: 7.7476e-04\n",
            "Epoch 6/100\n",
            "\u001b[1m52/52\u001b[0m \u001b[32m━━━━━━━━━━━━━━━━━━━━\u001b[0m\u001b[37m\u001b[0m \u001b[1m1s\u001b[0m 24ms/step - accuracy: 0.0000e+00 - loss: 1.4344e-04 - val_accuracy: 0.0000e+00 - val_loss: 5.6806e-04\n",
            "Epoch 7/100\n",
            "\u001b[1m52/52\u001b[0m \u001b[32m━━━━━━━━━━━━━━━━━━━━\u001b[0m\u001b[37m\u001b[0m \u001b[1m1s\u001b[0m 21ms/step - accuracy: 0.0000e+00 - loss: 1.0179e-04 - val_accuracy: 0.0000e+00 - val_loss: 5.8215e-04\n",
            "Epoch 8/100\n",
            "\u001b[1m52/52\u001b[0m \u001b[32m━━━━━━━━━━━━━━━━━━━━\u001b[0m\u001b[37m\u001b[0m \u001b[1m1s\u001b[0m 21ms/step - accuracy: 0.0000e+00 - loss: 8.2101e-05 - val_accuracy: 0.0000e+00 - val_loss: 4.7218e-04\n",
            "Epoch 9/100\n",
            "\u001b[1m52/52\u001b[0m \u001b[32m━━━━━━━━━━━━━━━━━━━━\u001b[0m\u001b[37m\u001b[0m \u001b[1m1s\u001b[0m 21ms/step - accuracy: 0.0000e+00 - loss: 7.6899e-05 - val_accuracy: 0.0000e+00 - val_loss: 0.0010\n",
            "Epoch 10/100\n",
            "\u001b[1m52/52\u001b[0m \u001b[32m━━━━━━━━━━━━━━━━━━━━\u001b[0m\u001b[37m\u001b[0m \u001b[1m1s\u001b[0m 22ms/step - accuracy: 0.0000e+00 - loss: 8.0297e-05 - val_accuracy: 0.0000e+00 - val_loss: 6.7780e-04\n",
            "Epoch 11/100\n",
            "\u001b[1m52/52\u001b[0m \u001b[32m━━━━━━━━━━━━━━━━━━━━\u001b[0m\u001b[37m\u001b[0m \u001b[1m1s\u001b[0m 23ms/step - accuracy: 0.0000e+00 - loss: 7.5474e-05 - val_accuracy: 0.0000e+00 - val_loss: 7.6946e-04\n",
            "Epoch 12/100\n",
            "\u001b[1m52/52\u001b[0m \u001b[32m━━━━━━━━━━━━━━━━━━━━\u001b[0m\u001b[37m\u001b[0m \u001b[1m1s\u001b[0m 23ms/step - accuracy: 0.0000e+00 - loss: 9.2628e-05 - val_accuracy: 0.0000e+00 - val_loss: 4.0998e-04\n",
            "Epoch 13/100\n",
            "\u001b[1m52/52\u001b[0m \u001b[32m━━━━━━━━━━━━━━━━━━━━\u001b[0m\u001b[37m\u001b[0m \u001b[1m1s\u001b[0m 22ms/step - accuracy: 0.0000e+00 - loss: 6.0113e-05 - val_accuracy: 0.0000e+00 - val_loss: 0.0011\n",
            "Epoch 14/100\n",
            "\u001b[1m52/52\u001b[0m \u001b[32m━━━━━━━━━━━━━━━━━━━━\u001b[0m\u001b[37m\u001b[0m \u001b[1m1s\u001b[0m 22ms/step - accuracy: 0.0000e+00 - loss: 8.1347e-05 - val_accuracy: 0.0000e+00 - val_loss: 6.9008e-04\n",
            "Epoch 15/100\n",
            "\u001b[1m52/52\u001b[0m \u001b[32m━━━━━━━━━━━━━━━━━━━━\u001b[0m\u001b[37m\u001b[0m \u001b[1m1s\u001b[0m 21ms/step - accuracy: 0.0000e+00 - loss: 8.4704e-05 - val_accuracy: 0.0000e+00 - val_loss: 4.0101e-04\n",
            "Epoch 16/100\n",
            "\u001b[1m52/52\u001b[0m \u001b[32m━━━━━━━━━━━━━━━━━━━━\u001b[0m\u001b[37m\u001b[0m \u001b[1m1s\u001b[0m 22ms/step - accuracy: 0.0000e+00 - loss: 8.2186e-05 - val_accuracy: 0.0000e+00 - val_loss: 3.9755e-04\n",
            "Epoch 17/100\n",
            "\u001b[1m52/52\u001b[0m \u001b[32m━━━━━━━━━━━━━━━━━━━━\u001b[0m\u001b[37m\u001b[0m \u001b[1m1s\u001b[0m 22ms/step - accuracy: 0.0000e+00 - loss: 6.7214e-05 - val_accuracy: 0.0000e+00 - val_loss: 4.2355e-04\n",
            "Epoch 18/100\n",
            "\u001b[1m52/52\u001b[0m \u001b[32m━━━━━━━━━━━━━━━━━━━━\u001b[0m\u001b[37m\u001b[0m \u001b[1m1s\u001b[0m 23ms/step - accuracy: 0.0000e+00 - loss: 6.0775e-05 - val_accuracy: 0.0000e+00 - val_loss: 3.8551e-04\n",
            "Epoch 19/100\n",
            "\u001b[1m52/52\u001b[0m \u001b[32m━━━━━━━━━━━━━━━━━━━━\u001b[0m\u001b[37m\u001b[0m \u001b[1m1s\u001b[0m 23ms/step - accuracy: 0.0000e+00 - loss: 6.9391e-05 - val_accuracy: 0.0000e+00 - val_loss: 3.5064e-04\n",
            "Epoch 20/100\n",
            "\u001b[1m52/52\u001b[0m \u001b[32m━━━━━━━━━━━━━━━━━━━━\u001b[0m\u001b[37m\u001b[0m \u001b[1m1s\u001b[0m 22ms/step - accuracy: 0.0000e+00 - loss: 6.1513e-05 - val_accuracy: 0.0000e+00 - val_loss: 4.4494e-04\n",
            "Epoch 21/100\n",
            "\u001b[1m52/52\u001b[0m \u001b[32m━━━━━━━━━━━━━━━━━━━━\u001b[0m\u001b[37m\u001b[0m \u001b[1m1s\u001b[0m 22ms/step - accuracy: 0.0000e+00 - loss: 6.8332e-05 - val_accuracy: 0.0000e+00 - val_loss: 6.4728e-04\n",
            "Epoch 22/100\n",
            "\u001b[1m52/52\u001b[0m \u001b[32m━━━━━━━━━━━━━━━━━━━━\u001b[0m\u001b[37m\u001b[0m \u001b[1m1s\u001b[0m 21ms/step - accuracy: 0.0000e+00 - loss: 4.8005e-05 - val_accuracy: 0.0000e+00 - val_loss: 0.0010\n",
            "Epoch 23/100\n",
            "\u001b[1m52/52\u001b[0m \u001b[32m━━━━━━━━━━━━━━━━━━━━\u001b[0m\u001b[37m\u001b[0m \u001b[1m1s\u001b[0m 22ms/step - accuracy: 0.0000e+00 - loss: 7.8600e-05 - val_accuracy: 0.0000e+00 - val_loss: 3.9610e-04\n",
            "Epoch 24/100\n",
            "\u001b[1m52/52\u001b[0m \u001b[32m━━━━━━━━━━━━━━━━━━━━\u001b[0m\u001b[37m\u001b[0m \u001b[1m1s\u001b[0m 22ms/step - accuracy: 0.0000e+00 - loss: 5.9890e-05 - val_accuracy: 0.0000e+00 - val_loss: 3.0337e-04\n",
            "Epoch 25/100\n",
            "\u001b[1m52/52\u001b[0m \u001b[32m━━━━━━━━━━━━━━━━━━━━\u001b[0m\u001b[37m\u001b[0m \u001b[1m1s\u001b[0m 21ms/step - accuracy: 0.0000e+00 - loss: 5.4210e-05 - val_accuracy: 0.0000e+00 - val_loss: 3.3799e-04\n",
            "Epoch 26/100\n",
            "\u001b[1m52/52\u001b[0m \u001b[32m━━━━━━━━━━━━━━━━━━━━\u001b[0m\u001b[37m\u001b[0m \u001b[1m1s\u001b[0m 22ms/step - accuracy: 0.0000e+00 - loss: 5.6822e-05 - val_accuracy: 0.0000e+00 - val_loss: 2.9117e-04\n",
            "Epoch 27/100\n",
            "\u001b[1m52/52\u001b[0m \u001b[32m━━━━━━━━━━━━━━━━━━━━\u001b[0m\u001b[37m\u001b[0m \u001b[1m1s\u001b[0m 22ms/step - accuracy: 0.0000e+00 - loss: 5.1227e-05 - val_accuracy: 0.0000e+00 - val_loss: 4.1359e-04\n",
            "Epoch 28/100\n",
            "\u001b[1m52/52\u001b[0m \u001b[32m━━━━━━━━━━━━━━━━━━━━\u001b[0m\u001b[37m\u001b[0m \u001b[1m1s\u001b[0m 22ms/step - accuracy: 0.0000e+00 - loss: 4.6022e-05 - val_accuracy: 0.0000e+00 - val_loss: 3.1138e-04\n",
            "Epoch 29/100\n",
            "\u001b[1m52/52\u001b[0m \u001b[32m━━━━━━━━━━━━━━━━━━━━\u001b[0m\u001b[37m\u001b[0m \u001b[1m1s\u001b[0m 22ms/step - accuracy: 0.0000e+00 - loss: 6.6695e-05 - val_accuracy: 0.0000e+00 - val_loss: 2.6768e-04\n",
            "Epoch 30/100\n",
            "\u001b[1m52/52\u001b[0m \u001b[32m━━━━━━━━━━━━━━━━━━━━\u001b[0m\u001b[37m\u001b[0m \u001b[1m1s\u001b[0m 22ms/step - accuracy: 0.0000e+00 - loss: 4.0295e-05 - val_accuracy: 0.0000e+00 - val_loss: 2.8400e-04\n",
            "Epoch 31/100\n",
            "\u001b[1m52/52\u001b[0m \u001b[32m━━━━━━━━━━━━━━━━━━━━\u001b[0m\u001b[37m\u001b[0m \u001b[1m1s\u001b[0m 21ms/step - accuracy: 0.0000e+00 - loss: 5.5418e-05 - val_accuracy: 0.0000e+00 - val_loss: 3.9318e-04\n",
            "Epoch 32/100\n",
            "\u001b[1m52/52\u001b[0m \u001b[32m━━━━━━━━━━━━━━━━━━━━\u001b[0m\u001b[37m\u001b[0m \u001b[1m1s\u001b[0m 21ms/step - accuracy: 0.0000e+00 - loss: 6.1830e-05 - val_accuracy: 0.0000e+00 - val_loss: 2.6478e-04\n",
            "Epoch 33/100\n",
            "\u001b[1m52/52\u001b[0m \u001b[32m━━━━━━━━━━━━━━━━━━━━\u001b[0m\u001b[37m\u001b[0m \u001b[1m1s\u001b[0m 21ms/step - accuracy: 0.0000e+00 - loss: 5.5748e-05 - val_accuracy: 0.0000e+00 - val_loss: 0.0011\n",
            "Epoch 34/100\n",
            "\u001b[1m52/52\u001b[0m \u001b[32m━━━━━━━━━━━━━━━━━━━━\u001b[0m\u001b[37m\u001b[0m \u001b[1m1s\u001b[0m 21ms/step - accuracy: 0.0000e+00 - loss: 5.3349e-05 - val_accuracy: 0.0000e+00 - val_loss: 3.6609e-04\n",
            "Epoch 35/100\n",
            "\u001b[1m52/52\u001b[0m \u001b[32m━━━━━━━━━━━━━━━━━━━━\u001b[0m\u001b[37m\u001b[0m \u001b[1m1s\u001b[0m 22ms/step - accuracy: 0.0000e+00 - loss: 4.5581e-05 - val_accuracy: 0.0000e+00 - val_loss: 2.3258e-04\n",
            "Epoch 36/100\n",
            "\u001b[1m52/52\u001b[0m \u001b[32m━━━━━━━━━━━━━━━━━━━━\u001b[0m\u001b[37m\u001b[0m \u001b[1m1s\u001b[0m 21ms/step - accuracy: 0.0000e+00 - loss: 5.3596e-05 - val_accuracy: 0.0000e+00 - val_loss: 3.4229e-04\n",
            "Epoch 37/100\n",
            "\u001b[1m52/52\u001b[0m \u001b[32m━━━━━━━━━━━━━━━━━━━━\u001b[0m\u001b[37m\u001b[0m \u001b[1m1s\u001b[0m 22ms/step - accuracy: 0.0000e+00 - loss: 4.3640e-05 - val_accuracy: 0.0000e+00 - val_loss: 2.3622e-04\n",
            "Epoch 38/100\n",
            "\u001b[1m52/52\u001b[0m \u001b[32m━━━━━━━━━━━━━━━━━━━━\u001b[0m\u001b[37m\u001b[0m \u001b[1m1s\u001b[0m 23ms/step - accuracy: 0.0000e+00 - loss: 3.8348e-05 - val_accuracy: 0.0000e+00 - val_loss: 4.4646e-04\n",
            "Epoch 39/100\n",
            "\u001b[1m52/52\u001b[0m \u001b[32m━━━━━━━━━━━━━━━━━━━━\u001b[0m\u001b[37m\u001b[0m \u001b[1m1s\u001b[0m 21ms/step - accuracy: 0.0000e+00 - loss: 4.9292e-05 - val_accuracy: 0.0000e+00 - val_loss: 3.3248e-04\n",
            "Epoch 40/100\n",
            "\u001b[1m52/52\u001b[0m \u001b[32m━━━━━━━━━━━━━━━━━━━━\u001b[0m\u001b[37m\u001b[0m \u001b[1m1s\u001b[0m 22ms/step - accuracy: 0.0000e+00 - loss: 3.4542e-05 - val_accuracy: 0.0000e+00 - val_loss: 2.0740e-04\n",
            "Epoch 41/100\n",
            "\u001b[1m52/52\u001b[0m \u001b[32m━━━━━━━━━━━━━━━━━━━━\u001b[0m\u001b[37m\u001b[0m \u001b[1m1s\u001b[0m 21ms/step - accuracy: 0.0000e+00 - loss: 3.9695e-05 - val_accuracy: 0.0000e+00 - val_loss: 2.0325e-04\n",
            "Epoch 42/100\n",
            "\u001b[1m52/52\u001b[0m \u001b[32m━━━━━━━━━━━━━━━━━━━━\u001b[0m\u001b[37m\u001b[0m \u001b[1m1s\u001b[0m 21ms/step - accuracy: 0.0000e+00 - loss: 5.0112e-05 - val_accuracy: 0.0000e+00 - val_loss: 2.8554e-04\n",
            "Epoch 43/100\n",
            "\u001b[1m52/52\u001b[0m \u001b[32m━━━━━━━━━━━━━━━━━━━━\u001b[0m\u001b[37m\u001b[0m \u001b[1m1s\u001b[0m 21ms/step - accuracy: 0.0000e+00 - loss: 2.9958e-05 - val_accuracy: 0.0000e+00 - val_loss: 3.1288e-04\n",
            "Epoch 44/100\n",
            "\u001b[1m52/52\u001b[0m \u001b[32m━━━━━━━━━━━━━━━━━━━━\u001b[0m\u001b[37m\u001b[0m \u001b[1m1s\u001b[0m 21ms/step - accuracy: 0.0000e+00 - loss: 4.5802e-05 - val_accuracy: 0.0000e+00 - val_loss: 2.7210e-04\n",
            "Epoch 45/100\n",
            "\u001b[1m52/52\u001b[0m \u001b[32m━━━━━━━━━━━━━━━━━━━━\u001b[0m\u001b[37m\u001b[0m \u001b[1m1s\u001b[0m 22ms/step - accuracy: 0.0000e+00 - loss: 4.3279e-05 - val_accuracy: 0.0000e+00 - val_loss: 6.4953e-04\n",
            "Epoch 46/100\n",
            "\u001b[1m52/52\u001b[0m \u001b[32m━━━━━━━━━━━━━━━━━━━━\u001b[0m\u001b[37m\u001b[0m \u001b[1m1s\u001b[0m 22ms/step - accuracy: 0.0000e+00 - loss: 5.1769e-05 - val_accuracy: 0.0000e+00 - val_loss: 1.8837e-04\n",
            "Epoch 47/100\n",
            "\u001b[1m52/52\u001b[0m \u001b[32m━━━━━━━━━━━━━━━━━━━━\u001b[0m\u001b[37m\u001b[0m \u001b[1m1s\u001b[0m 21ms/step - accuracy: 0.0000e+00 - loss: 4.8807e-05 - val_accuracy: 0.0000e+00 - val_loss: 5.4373e-04\n",
            "Epoch 48/100\n",
            "\u001b[1m52/52\u001b[0m \u001b[32m━━━━━━━━━━━━━━━━━━━━\u001b[0m\u001b[37m\u001b[0m \u001b[1m1s\u001b[0m 21ms/step - accuracy: 0.0000e+00 - loss: 3.2200e-05 - val_accuracy: 0.0000e+00 - val_loss: 2.2417e-04\n",
            "Epoch 49/100\n",
            "\u001b[1m52/52\u001b[0m \u001b[32m━━━━━━━━━━━━━━━━━━━━\u001b[0m\u001b[37m\u001b[0m \u001b[1m1s\u001b[0m 21ms/step - accuracy: 0.0000e+00 - loss: 3.4372e-05 - val_accuracy: 0.0000e+00 - val_loss: 2.8501e-04\n",
            "Epoch 50/100\n",
            "\u001b[1m52/52\u001b[0m \u001b[32m━━━━━━━━━━━━━━━━━━━━\u001b[0m\u001b[37m\u001b[0m \u001b[1m1s\u001b[0m 22ms/step - accuracy: 0.0000e+00 - loss: 3.4992e-05 - val_accuracy: 0.0000e+00 - val_loss: 7.0765e-04\n",
            "Epoch 51/100\n",
            "\u001b[1m52/52\u001b[0m \u001b[32m━━━━━━━━━━━━━━━━━━━━\u001b[0m\u001b[37m\u001b[0m \u001b[1m1s\u001b[0m 21ms/step - accuracy: 0.0000e+00 - loss: 3.1999e-05 - val_accuracy: 0.0000e+00 - val_loss: 2.0409e-04\n"
          ]
        }
      ],
      "source": [
        "\n",
        "# Adding early stopping\n",
        "early_stopping = EarlyStopping(monitor='val_loss', patience=5, restore_best_weights=True)\n",
        "\n",
        "\n",
        "# Train the model with validation\n",
        "history = model.fit(\n",
        "    x_train, y_train,\n",
        "    batch_size=32,\n",
        "    epochs=100,\n",
        "    validation_split=0.2,\n",
        "    callbacks=[callbacks, early_stopping]\n",
        ")\n",
        "\n",
        "# Save the entire model using model.save()\n",
        "model.save('AI_investment.keras')\n"
      ]
    },
    {
      "cell_type": "markdown",
      "metadata": {},
      "source": [
        "## Old training model\n"
      ]
    },
    {
      "cell_type": "code",
      "execution_count": 24,
      "metadata": {},
      "outputs": [],
      "source": [
        "# import pickle\n",
        "# # import statsmodels.api as sm\n",
        "# early_stopping = EarlyStopping(monitor='val_loss', patience=5, restore_best_weights=True)\n",
        "\n",
        "\n",
        "# # Train the model with validation\n",
        "# history = model.fit(\n",
        "#     x_train, y_train,\n",
        "#     batch_size=32,\n",
        "#     epochs=100,\n",
        "#     validation_split=0.2,\n",
        "#     callbacks=[callbacks, early_stopping]\n",
        "# )\n",
        "\n",
        "# # Save the model to a file\n",
        "# with open('LSTM.pkl', 'wb') as f:\n",
        "#   pickle.dump(model, f)\n",
        "\n",
        "# print(\"Model saved successfully!\")"
      ]
    },
    {
      "cell_type": "code",
      "execution_count": 25,
      "metadata": {
        "id": "PvRXPcJVBs0l"
      },
      "outputs": [],
      "source": [
        "# #Create the testing data\n",
        "test_data = scaled_data[training_data_len-60:,:]\n",
        "#Create the data sets x_test, y_test\n",
        "x_test = []\n",
        "y_test = dataset[training_data_len:,:]\n",
        "for i in range(60,len(test_data)):\n",
        " x_test.append(test_data[i-60:i,0])"
      ]
    },
    {
      "cell_type": "code",
      "execution_count": 26,
      "metadata": {
        "id": "WvZLLsx-DS14"
      },
      "outputs": [],
      "source": [
        "x_test = np.array(x_test)"
      ]
    },
    {
      "cell_type": "code",
      "execution_count": 27,
      "metadata": {
        "id": "UeRLVFfRDceD"
      },
      "outputs": [],
      "source": [
        "x_test = np.reshape(x_test,(x_test.shape[0],x_test.shape[1], 1))"
      ]
    },
    {
      "cell_type": "markdown",
      "metadata": {},
      "source": [
        "## using saved model to test testing data\n"
      ]
    },
    {
      "cell_type": "code",
      "execution_count": 28,
      "metadata": {},
      "outputs": [
        {
          "name": "stdout",
          "output_type": "stream",
          "text": [
            "\u001b[1m17/17\u001b[0m \u001b[32m━━━━━━━━━━━━━━━━━━━━\u001b[0m\u001b[37m\u001b[0m \u001b[1m1s\u001b[0m 19ms/step\n"
          ]
        }
      ],
      "source": [
        "# Load the saved model\n",
        "loaded_model = load_model('AI_investment.keras')\n",
        "\n",
        "predictions = loaded_model.predict(x_test)\n",
        "predictions = scaler.inverse_transform(predictions)\n"
      ]
    },
    {
      "cell_type": "code",
      "execution_count": 29,
      "metadata": {},
      "outputs": [
        {
          "data": {
            "text/plain": [
              "1.7125523932894369"
            ]
          },
          "execution_count": 29,
          "metadata": {},
          "output_type": "execute_result"
        }
      ],
      "source": [
        "#Get the rmse\n",
        "rmse = np.sqrt(np.mean(predictions - y_test)**2)\n",
        "rmse\n"
      ]
    },
    {
      "cell_type": "code",
      "execution_count": 30,
      "metadata": {
        "id": "JLMvH0bjESvp"
      },
      "outputs": [
        {
          "name": "stdout",
          "output_type": "stream",
          "text": [
            "\u001b[1m17/17\u001b[0m \u001b[32m━━━━━━━━━━━━━━━━━━━━\u001b[0m\u001b[37m\u001b[0m \u001b[1m1s\u001b[0m 19ms/step\n"
          ]
        }
      ],
      "source": [
        "predictions = model.predict(x_test)\n",
        "predictions = scaler.inverse_transform(predictions)\n"
      ]
    },
    {
      "cell_type": "code",
      "execution_count": 31,
      "metadata": {
        "colab": {
          "base_uri": "https://localhost:8080/"
        },
        "id": "0DodOLmpEpMB",
        "outputId": "5b33b94d-0a0f-4db3-a0df-d021954ee378"
      },
      "outputs": [
        {
          "data": {
            "text/plain": [
              "13.399919556221104"
            ]
          },
          "execution_count": 31,
          "metadata": {},
          "output_type": "execute_result"
        }
      ],
      "source": [
        "#Get the mse\n",
        "mse = np.mean((predictions - y_test) ** 2)\n",
        "mse\n"
      ]
    },
    {
      "cell_type": "code",
      "execution_count": 32,
      "metadata": {
        "colab": {
          "base_uri": "https://localhost:8080/",
          "height": 676
        },
        "id": "ZR2RpKVaE_01",
        "outputId": "1e3f72b0-88a2-47b5-c16f-51bb6919852e"
      },
      "outputs": [
        {
          "name": "stderr",
          "output_type": "stream",
          "text": [
            "C:\\Users\\charles\\AppData\\Local\\Temp\\ipykernel_14716\\201641445.py:6: SettingWithCopyWarning: \n",
            "A value is trying to be set on a copy of a slice from a DataFrame.\n",
            "Try using .loc[row_indexer,col_indexer] = value instead\n",
            "\n",
            "See the caveats in the documentation: https://pandas.pydata.org/pandas-docs/stable/user_guide/indexing.html#returning-a-view-versus-a-copy\n",
            "  valid['Predictions'] = predictions\n"
          ]
        },
        {
          "data": {
            "image/png": "[encoded data removed]",
            "text/plain": [
              "<Figure size 1600x800 with 1 Axes>"
            ]
          },
          "metadata": {},
          "output_type": "display_data"
        }
      ],
      "source": [
        "# Plot the data\n",
        "train = data[:training_data_len]\n",
        "valid = data[training_data_len:]\n",
        "\n",
        "# Assign predictions directly to new column (avoids copy warning)\n",
        "valid['Predictions'] = predictions\n",
        "\n",
        "# Visualize the data\n",
        "plt.figure(figsize=(16, 8))\n",
        "plt.title('AAPl Stock')\n",
        "plt.xlabel('Date', fontsize=18)\n",
        "plt.ylabel('Price USD', fontsize=18)\n",
        "plt.plot(train['Close'], label='Train')  # Add label for clarity\n",
        "plt.plot(valid['Close'], label='Val')  # Add label for clarity\n",
        "plt.plot(valid['Predictions'], label='Predictions')  # Plot predictions separately\n",
        "plt.legend(['Train','Val','Predictions'], loc='lower right')\n",
        "plt.show()"
      ]
    },
    {
      "cell_type": "code",
      "execution_count": 33,
      "metadata": {
        "colab": {
          "base_uri": "https://localhost:8080/",
          "height": 447
        },
        "id": "Ss3XCgWCIHQZ",
        "outputId": "753e0c26-61eb-488b-938e-09a3038a324e"
      },
      "outputs": [
        {
          "data": {
            "text/html": [
              "<div>\n",
              "<style scoped>\n",
              "    .dataframe tbody tr th:only-of-type {\n",
              "        vertical-align: middle;\n",
              "    }\n",
              "\n",
              "    .dataframe tbody tr th {\n",
              "        vertical-align: top;\n",
              "    }\n",
              "\n",
              "    .dataframe thead th {\n",
              "        text-align: right;\n",
              "    }\n",
              "</style>\n",
              "<table border=\"1\" class=\"dataframe\">\n",
              "  <thead>\n",
              "    <tr style=\"text-align: right;\">\n",
              "      <th></th>\n",
              "      <th>Close</th>\n",
              "      <th>Predictions</th>\n",
              "    </tr>\n",
              "    <tr>\n",
              "      <th>Date</th>\n",
              "      <th></th>\n",
              "      <th></th>\n",
              "    </tr>\n",
              "  </thead>\n",
              "  <tbody>\n",
              "    <tr>\n",
              "      <th>2022-06-15 00:00:00-04:00</th>\n",
              "      <td>133.914917</td>\n",
              "      <td>130.816986</td>\n",
              "    </tr>\n",
              "    <tr>\n",
              "      <th>2022-06-16 00:00:00-04:00</th>\n",
              "      <td>128.604996</td>\n",
              "      <td>131.464661</td>\n",
              "    </tr>\n",
              "    <tr>\n",
              "      <th>2022-06-17 00:00:00-04:00</th>\n",
              "      <td>130.088196</td>\n",
              "      <td>130.478607</td>\n",
              "    </tr>\n",
              "    <tr>\n",
              "      <th>2022-06-21 00:00:00-04:00</th>\n",
              "      <td>134.349976</td>\n",
              "      <td>130.272781</td>\n",
              "    </tr>\n",
              "    <tr>\n",
              "      <th>2022-06-22 00:00:00-04:00</th>\n",
              "      <td>133.835815</td>\n",
              "      <td>132.368652</td>\n",
              "    </tr>\n",
              "    <tr>\n",
              "      <th>...</th>\n",
              "      <td>...</td>\n",
              "      <td>...</td>\n",
              "    </tr>\n",
              "    <tr>\n",
              "      <th>2024-07-23 00:00:00-04:00</th>\n",
              "      <td>225.009995</td>\n",
              "      <td>216.958221</td>\n",
              "    </tr>\n",
              "    <tr>\n",
              "      <th>2024-07-24 00:00:00-04:00</th>\n",
              "      <td>218.539993</td>\n",
              "      <td>218.084061</td>\n",
              "    </tr>\n",
              "    <tr>\n",
              "      <th>2024-07-25 00:00:00-04:00</th>\n",
              "      <td>217.490005</td>\n",
              "      <td>215.543869</td>\n",
              "    </tr>\n",
              "    <tr>\n",
              "      <th>2024-07-26 00:00:00-04:00</th>\n",
              "      <td>217.960007</td>\n",
              "      <td>213.039078</td>\n",
              "    </tr>\n",
              "    <tr>\n",
              "      <th>2024-07-29 00:00:00-04:00</th>\n",
              "      <td>218.240005</td>\n",
              "      <td>212.337891</td>\n",
              "    </tr>\n",
              "  </tbody>\n",
              "</table>\n",
              "<p>532 rows × 2 columns</p>\n",
              "</div>"
            ],
            "text/plain": [
              "                                Close  Predictions\n",
              "Date                                              \n",
              "2022-06-15 00:00:00-04:00  133.914917   130.816986\n",
              "2022-06-16 00:00:00-04:00  128.604996   131.464661\n",
              "2022-06-17 00:00:00-04:00  130.088196   130.478607\n",
              "2022-06-21 00:00:00-04:00  134.349976   130.272781\n",
              "2022-06-22 00:00:00-04:00  133.835815   132.368652\n",
              "...                               ...          ...\n",
              "2024-07-23 00:00:00-04:00  225.009995   216.958221\n",
              "2024-07-24 00:00:00-04:00  218.539993   218.084061\n",
              "2024-07-25 00:00:00-04:00  217.490005   215.543869\n",
              "2024-07-26 00:00:00-04:00  217.960007   213.039078\n",
              "2024-07-29 00:00:00-04:00  218.240005   212.337891\n",
              "\n",
              "[532 rows x 2 columns]"
            ]
          },
          "execution_count": 33,
          "metadata": {},
          "output_type": "execute_result"
        }
      ],
      "source": [
        "valid"
      ]
    },
    {
      "cell_type": "code",
      "execution_count": 34,
      "metadata": {
        "colab": {
          "base_uri": "https://localhost:8080/",
          "height": 464
        },
        "id": "MUtNLXK_N5L1",
        "outputId": "765b67e0-33fa-4294-b1c5-991c3c0979f7"
      },
      "outputs": [
        {
          "data": {
            "text/html": [
              "<div>\n",
              "<style scoped>\n",
              "    .dataframe tbody tr th:only-of-type {\n",
              "        vertical-align: middle;\n",
              "    }\n",
              "\n",
              "    .dataframe tbody tr th {\n",
              "        vertical-align: top;\n",
              "    }\n",
              "\n",
              "    .dataframe thead th {\n",
              "        text-align: right;\n",
              "    }\n",
              "</style>\n",
              "<table border=\"1\" class=\"dataframe\">\n",
              "  <thead>\n",
              "    <tr style=\"text-align: right;\">\n",
              "      <th></th>\n",
              "      <th>Open</th>\n",
              "      <th>High</th>\n",
              "      <th>Low</th>\n",
              "      <th>Close</th>\n",
              "      <th>Volume</th>\n",
              "      <th>Dividends</th>\n",
              "      <th>Stock Splits</th>\n",
              "    </tr>\n",
              "    <tr>\n",
              "      <th>Date</th>\n",
              "      <th></th>\n",
              "      <th></th>\n",
              "      <th></th>\n",
              "      <th></th>\n",
              "      <th></th>\n",
              "      <th></th>\n",
              "      <th></th>\n",
              "    </tr>\n",
              "  </thead>\n",
              "  <tbody>\n",
              "    <tr>\n",
              "      <th>2012-01-03 00:00:00-05:00</th>\n",
              "      <td>12.361729</td>\n",
              "      <td>12.455332</td>\n",
              "      <td>12.349651</td>\n",
              "      <td>12.416985</td>\n",
              "      <td>302220800</td>\n",
              "      <td>0.0</td>\n",
              "      <td>0.0</td>\n",
              "    </tr>\n",
              "    <tr>\n",
              "      <th>2012-01-04 00:00:00-05:00</th>\n",
              "      <td>12.379842</td>\n",
              "      <td>12.521155</td>\n",
              "      <td>12.358102</td>\n",
              "      <td>12.483712</td>\n",
              "      <td>260022000</td>\n",
              "      <td>0.0</td>\n",
              "      <td>0.0</td>\n",
              "    </tr>\n",
              "    <tr>\n",
              "      <th>2012-01-05 00:00:00-05:00</th>\n",
              "      <td>12.529307</td>\n",
              "      <td>12.638008</td>\n",
              "      <td>12.460463</td>\n",
              "      <td>12.622307</td>\n",
              "      <td>271269600</td>\n",
              "      <td>0.0</td>\n",
              "      <td>0.0</td>\n",
              "    </tr>\n",
              "    <tr>\n",
              "      <th>2012-01-06 00:00:00-05:00</th>\n",
              "      <td>12.674846</td>\n",
              "      <td>12.764826</td>\n",
              "      <td>12.658239</td>\n",
              "      <td>12.754258</td>\n",
              "      <td>318292800</td>\n",
              "      <td>0.0</td>\n",
              "      <td>0.0</td>\n",
              "    </tr>\n",
              "    <tr>\n",
              "      <th>2012-01-09 00:00:00-05:00</th>\n",
              "      <td>12.847859</td>\n",
              "      <td>12.915796</td>\n",
              "      <td>12.722550</td>\n",
              "      <td>12.734024</td>\n",
              "      <td>394024400</td>\n",
              "      <td>0.0</td>\n",
              "      <td>0.0</td>\n",
              "    </tr>\n",
              "    <tr>\n",
              "      <th>...</th>\n",
              "      <td>...</td>\n",
              "      <td>...</td>\n",
              "      <td>...</td>\n",
              "      <td>...</td>\n",
              "      <td>...</td>\n",
              "      <td>...</td>\n",
              "      <td>...</td>\n",
              "    </tr>\n",
              "    <tr>\n",
              "      <th>2024-07-23 00:00:00-04:00</th>\n",
              "      <td>224.369995</td>\n",
              "      <td>226.940002</td>\n",
              "      <td>222.679993</td>\n",
              "      <td>225.009995</td>\n",
              "      <td>39960300</td>\n",
              "      <td>0.0</td>\n",
              "      <td>0.0</td>\n",
              "    </tr>\n",
              "    <tr>\n",
              "      <th>2024-07-24 00:00:00-04:00</th>\n",
              "      <td>224.000000</td>\n",
              "      <td>224.800003</td>\n",
              "      <td>217.130005</td>\n",
              "      <td>218.539993</td>\n",
              "      <td>61777600</td>\n",
              "      <td>0.0</td>\n",
              "      <td>0.0</td>\n",
              "    </tr>\n",
              "    <tr>\n",
              "      <th>2024-07-25 00:00:00-04:00</th>\n",
              "      <td>218.929993</td>\n",
              "      <td>220.850006</td>\n",
              "      <td>214.619995</td>\n",
              "      <td>217.490005</td>\n",
              "      <td>51391200</td>\n",
              "      <td>0.0</td>\n",
              "      <td>0.0</td>\n",
              "    </tr>\n",
              "    <tr>\n",
              "      <th>2024-07-26 00:00:00-04:00</th>\n",
              "      <td>218.699997</td>\n",
              "      <td>219.490005</td>\n",
              "      <td>216.009995</td>\n",
              "      <td>217.960007</td>\n",
              "      <td>41601300</td>\n",
              "      <td>0.0</td>\n",
              "      <td>0.0</td>\n",
              "    </tr>\n",
              "    <tr>\n",
              "      <th>2024-07-29 00:00:00-04:00</th>\n",
              "      <td>216.960007</td>\n",
              "      <td>219.300003</td>\n",
              "      <td>215.750000</td>\n",
              "      <td>218.240005</td>\n",
              "      <td>36261400</td>\n",
              "      <td>0.0</td>\n",
              "      <td>0.0</td>\n",
              "    </tr>\n",
              "  </tbody>\n",
              "</table>\n",
              "<p>3162 rows × 7 columns</p>\n",
              "</div>"
            ],
            "text/plain": [
              "                                 Open        High         Low       Close  \\\n",
              "Date                                                                        \n",
              "2012-01-03 00:00:00-05:00   12.361729   12.455332   12.349651   12.416985   \n",
              "2012-01-04 00:00:00-05:00   12.379842   12.521155   12.358102   12.483712   \n",
              "2012-01-05 00:00:00-05:00   12.529307   12.638008   12.460463   12.622307   \n",
              "2012-01-06 00:00:00-05:00   12.674846   12.764826   12.658239   12.754258   \n",
              "2012-01-09 00:00:00-05:00   12.847859   12.915796   12.722550   12.734024   \n",
              "...                               ...         ...         ...         ...   \n",
              "2024-07-23 00:00:00-04:00  224.369995  226.940002  222.679993  225.009995   \n",
              "2024-07-24 00:00:00-04:00  224.000000  224.800003  217.130005  218.539993   \n",
              "2024-07-25 00:00:00-04:00  218.929993  220.850006  214.619995  217.490005   \n",
              "2024-07-26 00:00:00-04:00  218.699997  219.490005  216.009995  217.960007   \n",
              "2024-07-29 00:00:00-04:00  216.960007  219.300003  215.750000  218.240005   \n",
              "\n",
              "                              Volume  Dividends  Stock Splits  \n",
              "Date                                                           \n",
              "2012-01-03 00:00:00-05:00  302220800        0.0           0.0  \n",
              "2012-01-04 00:00:00-05:00  260022000        0.0           0.0  \n",
              "2012-01-05 00:00:00-05:00  271269600        0.0           0.0  \n",
              "2012-01-06 00:00:00-05:00  318292800        0.0           0.0  \n",
              "2012-01-09 00:00:00-05:00  394024400        0.0           0.0  \n",
              "...                              ...        ...           ...  \n",
              "2024-07-23 00:00:00-04:00   39960300        0.0           0.0  \n",
              "2024-07-24 00:00:00-04:00   61777600        0.0           0.0  \n",
              "2024-07-25 00:00:00-04:00   51391200        0.0           0.0  \n",
              "2024-07-26 00:00:00-04:00   41601300        0.0           0.0  \n",
              "2024-07-29 00:00:00-04:00   36261400        0.0           0.0  \n",
              "\n",
              "[3162 rows x 7 columns]"
            ]
          },
          "execution_count": 34,
          "metadata": {},
          "output_type": "execute_result"
        }
      ],
      "source": [
        "#get datatable\n",
        "ticker = yf.Ticker(\"AAPL\")\n",
        "\n",
        "dt = ticker.history(start=\"2012-01-01\", end=date.today())\n",
        "dt\n",
        "# print(dt)\n"
      ]
    },
    {
      "cell_type": "code",
      "execution_count": 35,
      "metadata": {
        "colab": {
          "base_uri": "https://localhost:8080/"
        },
        "id": "qqDPFMkKSKOH",
        "outputId": "1907fd82-4b5e-4b2a-ea37-70da370e7bce"
      },
      "outputs": [
        {
          "data": {
            "text/plain": [
              "array([[0.        ],\n",
              "       [0.16664387],\n",
              "       [0.13975566],\n",
              "       [0.15086486],\n",
              "       [0.15633938],\n",
              "       [0.18580408],\n",
              "       [0.16532819],\n",
              "       [0.21740442],\n",
              "       [0.23594541],\n",
              "       [0.27286652],\n",
              "       [0.27480116],\n",
              "       [0.27528482],\n",
              "       [0.29414834],\n",
              "       [0.31526927],\n",
              "       [0.29189117],\n",
              "       [0.22707813],\n",
              "       [0.27705833],\n",
              "       [0.27721971],\n",
              "       [0.28205632],\n",
              "       [0.29817901],\n",
              "       [0.31365691],\n",
              "       [0.34235528],\n",
              "       [0.34751466],\n",
              "       [0.37202097],\n",
              "       [0.34961044],\n",
              "       [0.38846618],\n",
              "       [0.32768357],\n",
              "       [0.55388491],\n",
              "       [0.64933146],\n",
              "       [0.66819498],\n",
              "       [0.63998027],\n",
              "       [0.707373  ],\n",
              "       [0.66900092],\n",
              "       [0.5946753 ],\n",
              "       [0.55936681],\n",
              "       [0.56984646],\n",
              "       [0.58484069],\n",
              "       [0.65223343],\n",
              "       [0.66593781],\n",
              "       [0.60983067],\n",
              "       [0.70866285],\n",
              "       [0.76541479],\n",
              "       [0.78605182],\n",
              "       [0.8632794 ],\n",
              "       [0.88714116],\n",
              "       [0.90100644],\n",
              "       [0.97033406],\n",
              "       [0.88311049],\n",
              "       [0.93099465],\n",
              "       [0.99322825],\n",
              "       [1.        ],\n",
              "       [0.90423117],\n",
              "       [0.82845433],\n",
              "       [0.83055036],\n",
              "       [0.82490756],\n",
              "       [0.84183619],\n",
              "       [0.73752236],\n",
              "       [0.72059373],\n",
              "       [0.72817141],\n",
              "       [0.73268575]])"
            ]
          },
          "execution_count": 35,
          "metadata": {},
          "output_type": "execute_result"
        }
      ],
      "source": [
        "apple_quote = dt\n",
        "apple_quote\n",
        "new_df = apple_quote.filter(['Close'])\n",
        "last60days = new_df[-60:].values\n",
        "last60days\n",
        "scaler = MinMaxScaler(feature_range=(0,1))\n",
        "scalar = scaler.fit(last60days)\n",
        "last60days_scaled = scaler.transform(last60days)\n",
        "last60days_scaled\n",
        "\n"
      ]
    },
    {
      "cell_type": "markdown",
      "metadata": {},
      "source": [
        "### create an array for the dates of the prices"
      ]
    },
    {
      "cell_type": "code",
      "execution_count": 36,
      "metadata": {},
      "outputs": [
        {
          "data": {
            "text/plain": [
              "array([datetime.date(2012, 1, 3), datetime.date(2012, 1, 4),\n",
              "       datetime.date(2012, 1, 5), ..., datetime.date(2024, 7, 25),\n",
              "       datetime.date(2024, 7, 26), datetime.date(2024, 7, 29)],\n",
              "      dtype=object)"
            ]
          },
          "execution_count": 36,
          "metadata": {},
          "output_type": "execute_result"
        }
      ],
      "source": [
        "import pandas as pd\n",
        "import numpy as np\n",
        "\n",
        "datesAAPL = dt.index.to_numpy()\n",
        "datesAAPL\n",
        "# Convert to Pandas DatetimeIndex for easier manipulation\n",
        "datesAAPL_index = pd.DatetimeIndex(datesAAPL)\n",
        "\n",
        "# Extract the date part only\n",
        "dates_only = datesAAPL_index.date\n",
        "dates_only\n",
        "\n",
        "dates_only_np = np.array(dates_only)\n",
        "# Convert back to NumPy array if needed\n",
        "# dates_only_np = dates_only.to_numpy()\n",
        "dates_only_np"
      ]
    },
    {
      "cell_type": "code",
      "execution_count": 37,
      "metadata": {},
      "outputs": [
        {
          "name": "stdout",
          "output_type": "stream",
          "text": [
            "[datetime.date(2024, 5, 2) datetime.date(2024, 5, 3)\n",
            " datetime.date(2024, 5, 6) datetime.date(2024, 5, 7)\n",
            " datetime.date(2024, 5, 8) datetime.date(2024, 5, 9)\n",
            " datetime.date(2024, 5, 10) datetime.date(2024, 5, 13)\n",
            " datetime.date(2024, 5, 14) datetime.date(2024, 5, 15)\n",
            " datetime.date(2024, 5, 16) datetime.date(2024, 5, 17)\n",
            " datetime.date(2024, 5, 20) datetime.date(2024, 5, 21)\n",
            " datetime.date(2024, 5, 22) datetime.date(2024, 5, 23)\n",
            " datetime.date(2024, 5, 24) datetime.date(2024, 5, 28)\n",
            " datetime.date(2024, 5, 29) datetime.date(2024, 5, 30)\n",
            " datetime.date(2024, 5, 31) datetime.date(2024, 6, 3)\n",
            " datetime.date(2024, 6, 4) datetime.date(2024, 6, 5)\n",
            " datetime.date(2024, 6, 6) datetime.date(2024, 6, 7)\n",
            " datetime.date(2024, 6, 10) datetime.date(2024, 6, 11)\n",
            " datetime.date(2024, 6, 12) datetime.date(2024, 6, 13)\n",
            " datetime.date(2024, 6, 14) datetime.date(2024, 6, 17)\n",
            " datetime.date(2024, 6, 18) datetime.date(2024, 6, 20)\n",
            " datetime.date(2024, 6, 21) datetime.date(2024, 6, 24)\n",
            " datetime.date(2024, 6, 25) datetime.date(2024, 6, 26)\n",
            " datetime.date(2024, 6, 27) datetime.date(2024, 6, 28)\n",
            " datetime.date(2024, 7, 1) datetime.date(2024, 7, 2)\n",
            " datetime.date(2024, 7, 3) datetime.date(2024, 7, 5)\n",
            " datetime.date(2024, 7, 8) datetime.date(2024, 7, 9)\n",
            " datetime.date(2024, 7, 10) datetime.date(2024, 7, 11)\n",
            " datetime.date(2024, 7, 12) datetime.date(2024, 7, 15)\n",
            " datetime.date(2024, 7, 16) datetime.date(2024, 7, 17)\n",
            " datetime.date(2024, 7, 18) datetime.date(2024, 7, 19)\n",
            " datetime.date(2024, 7, 22) datetime.date(2024, 7, 23)\n",
            " datetime.date(2024, 7, 24) datetime.date(2024, 7, 25)\n",
            " datetime.date(2024, 7, 26) datetime.date(2024, 7, 29)]\n"
          ]
        }
      ],
      "source": [
        "last_60_days = dates_only_np[-60:]\n",
        "\n",
        "print(last_60_days)"
      ]
    },
    {
      "cell_type": "code",
      "execution_count": 38,
      "metadata": {},
      "outputs": [
        {
          "name": "stdout",
          "output_type": "stream",
          "text": [
            "\u001b[1m1/1\u001b[0m \u001b[32m━━━━━━━━━━━━━━━━━━━━\u001b[0m\u001b[37m\u001b[0m \u001b[1m0s\u001b[0m 19ms/step\n",
            "Predicted Price of AAPL after 2024-07-29 is 216.99215698242188\n"
          ]
        }
      ],
      "source": [
        "X_test = []\n",
        "dates_for_prediction = []  \n",
        "\n",
        "X_test.append(last60days_scaled)\n",
        "dates_for_prediction.append(dates_only_np[-1])  # Add the last date from your date list\n",
        "\n",
        "X_test = np.array(X_test)\n",
        "X_test = np.reshape(X_test,(X_test.shape[0],X_test.shape[1],1))\n",
        "\n",
        "pred_price = model.predict(X_test)\n",
        "pred_price = scaler.inverse_transform(pred_price)\n",
        "\n",
        "# Print the predicted price along with the corresponding date\n",
        "print(f\"Predicted Price of AAPL after {dates_for_prediction[0]} is {pred_price[0][0]}\")"
      ]
    },
    {
      "cell_type": "code",
      "execution_count": 39,
      "metadata": {},
      "outputs": [
        {
          "name": "stdout",
          "output_type": "stream",
          "text": [
            "\u001b[1m1/1\u001b[0m \u001b[32m━━━━━━━━━━━━━━━━━━━━\u001b[0m\u001b[37m\u001b[0m \u001b[1m0s\u001b[0m 19ms/step\n",
            "Predicted Price of AAPL for day 1: [[216.99216]]\n",
            "\u001b[1m1/1\u001b[0m \u001b[32m━━━━━━━━━━━━━━━━━━━━\u001b[0m\u001b[37m\u001b[0m \u001b[1m0s\u001b[0m 19ms/step\n",
            "Predicted Price of AAPL for day 2: [[216.89658]]\n",
            "\u001b[1m1/1\u001b[0m \u001b[32m━━━━━━━━━━━━━━━━━━━━\u001b[0m\u001b[37m\u001b[0m \u001b[1m0s\u001b[0m 19ms/step\n",
            "Predicted Price of AAPL for day 3: [[216.77327]]\n",
            "\u001b[1m1/1\u001b[0m \u001b[32m━━━━━━━━━━━━━━━━━━━━\u001b[0m\u001b[37m\u001b[0m \u001b[1m0s\u001b[0m 19ms/step\n",
            "Predicted Price of AAPL for day 4: [[216.67583]]\n",
            "\u001b[1m1/1\u001b[0m \u001b[32m━━━━━━━━━━━━━━━━━━━━\u001b[0m\u001b[37m\u001b[0m \u001b[1m0s\u001b[0m 19ms/step\n",
            "Predicted Price of AAPL for day 5: [[216.60208]]\n",
            "\u001b[1m1/1\u001b[0m \u001b[32m━━━━━━━━━━━━━━━━━━━━\u001b[0m\u001b[37m\u001b[0m \u001b[1m0s\u001b[0m 19ms/step\n",
            "Predicted Price of AAPL for day 6: [[216.53949]]\n",
            "\u001b[1m1/1\u001b[0m \u001b[32m━━━━━━━━━━━━━━━━━━━━\u001b[0m\u001b[37m\u001b[0m \u001b[1m0s\u001b[0m 21ms/step\n",
            "Predicted Price of AAPL for day 7: [[216.47653]]\n",
            "\u001b[1m1/1\u001b[0m \u001b[32m━━━━━━━━━━━━━━━━━━━━\u001b[0m\u001b[37m\u001b[0m \u001b[1m0s\u001b[0m 19ms/step\n",
            "Predicted Price of AAPL for day 8: [[216.40509]]\n",
            "\u001b[1m1/1\u001b[0m \u001b[32m━━━━━━━━━━━━━━━━━━━━\u001b[0m\u001b[37m\u001b[0m \u001b[1m0s\u001b[0m 19ms/step\n",
            "Predicted Price of AAPL for day 9: [[216.32053]]\n",
            "\u001b[1m1/1\u001b[0m \u001b[32m━━━━━━━━━━━━━━━━━━━━\u001b[0m\u001b[37m\u001b[0m \u001b[1m0s\u001b[0m 19ms/step\n",
            "Predicted Price of AAPL for day 10: [[216.22096]]\n",
            "\u001b[1m1/1\u001b[0m \u001b[32m━━━━━━━━━━━━━━━━━━━━\u001b[0m\u001b[37m\u001b[0m \u001b[1m0s\u001b[0m 19ms/step\n",
            "Predicted Price of AAPL for day 11: [[216.10666]]\n",
            "\u001b[1m1/1\u001b[0m \u001b[32m━━━━━━━━━━━━━━━━━━━━\u001b[0m\u001b[37m\u001b[0m \u001b[1m0s\u001b[0m 18ms/step\n",
            "Predicted Price of AAPL for day 12: [[215.97914]]\n",
            "\u001b[1m1/1\u001b[0m \u001b[32m━━━━━━━━━━━━━━━━━━━━\u001b[0m\u001b[37m\u001b[0m \u001b[1m0s\u001b[0m 18ms/step\n",
            "Predicted Price of AAPL for day 13: [[215.84074]]\n",
            "\u001b[1m1/1\u001b[0m \u001b[32m━━━━━━━━━━━━━━━━━━━━\u001b[0m\u001b[37m\u001b[0m \u001b[1m0s\u001b[0m 18ms/step\n",
            "Predicted Price of AAPL for day 14: [[215.69408]]\n",
            "\u001b[1m1/1\u001b[0m \u001b[32m━━━━━━━━━━━━━━━━━━━━\u001b[0m\u001b[37m\u001b[0m \u001b[1m0s\u001b[0m 18ms/step\n",
            "Predicted Price of AAPL for day 15: [[215.5418]]\n",
            "\u001b[1m1/1\u001b[0m \u001b[32m━━━━━━━━━━━━━━━━━━━━\u001b[0m\u001b[37m\u001b[0m \u001b[1m0s\u001b[0m 19ms/step\n",
            "Predicted Price of AAPL for day 16: [[215.38625]]\n",
            "\u001b[1m1/1\u001b[0m \u001b[32m━━━━━━━━━━━━━━━━━━━━\u001b[0m\u001b[37m\u001b[0m \u001b[1m0s\u001b[0m 19ms/step\n",
            "Predicted Price of AAPL for day 17: [[215.22945]]\n",
            "\u001b[1m1/1\u001b[0m \u001b[32m━━━━━━━━━━━━━━━━━━━━\u001b[0m\u001b[37m\u001b[0m \u001b[1m0s\u001b[0m 18ms/step\n",
            "Predicted Price of AAPL for day 18: [[215.07301]]\n",
            "\u001b[1m1/1\u001b[0m \u001b[32m━━━━━━━━━━━━━━━━━━━━\u001b[0m\u001b[37m\u001b[0m \u001b[1m0s\u001b[0m 19ms/step\n",
            "Predicted Price of AAPL for day 19: [[214.91814]]\n",
            "\u001b[1m1/1\u001b[0m \u001b[32m━━━━━━━━━━━━━━━━━━━━\u001b[0m\u001b[37m\u001b[0m \u001b[1m0s\u001b[0m 18ms/step\n",
            "Predicted Price of AAPL for day 20: [[214.76567]]\n",
            "\u001b[1m1/1\u001b[0m \u001b[32m━━━━━━━━━━━━━━━━━━━━\u001b[0m\u001b[37m\u001b[0m \u001b[1m0s\u001b[0m 19ms/step\n",
            "Predicted Price of AAPL for day 21: [[214.61618]]\n",
            "\u001b[1m1/1\u001b[0m \u001b[32m━━━━━━━━━━━━━━━━━━━━\u001b[0m\u001b[37m\u001b[0m \u001b[1m0s\u001b[0m 18ms/step\n",
            "Predicted Price of AAPL for day 22: [[214.46996]]\n",
            "\u001b[1m1/1\u001b[0m \u001b[32m━━━━━━━━━━━━━━━━━━━━\u001b[0m\u001b[37m\u001b[0m \u001b[1m0s\u001b[0m 18ms/step\n",
            "Predicted Price of AAPL for day 23: [[214.3271]]\n",
            "\u001b[1m1/1\u001b[0m \u001b[32m━━━━━━━━━━━━━━━━━━━━\u001b[0m\u001b[37m\u001b[0m \u001b[1m0s\u001b[0m 19ms/step\n",
            "Predicted Price of AAPL for day 24: [[214.18762]]\n",
            "\u001b[1m1/1\u001b[0m \u001b[32m━━━━━━━━━━━━━━━━━━━━\u001b[0m\u001b[37m\u001b[0m \u001b[1m0s\u001b[0m 19ms/step\n",
            "Predicted Price of AAPL for day 25: [[214.05145]]\n",
            "\u001b[1m1/1\u001b[0m \u001b[32m━━━━━━━━━━━━━━━━━━━━\u001b[0m\u001b[37m\u001b[0m \u001b[1m0s\u001b[0m 18ms/step\n",
            "Predicted Price of AAPL for day 26: [[213.91846]]\n",
            "\u001b[1m1/1\u001b[0m \u001b[32m━━━━━━━━━━━━━━━━━━━━\u001b[0m\u001b[37m\u001b[0m \u001b[1m0s\u001b[0m 32ms/step\n",
            "Predicted Price of AAPL for day 27: [[213.7885]]\n",
            "\u001b[1m1/1\u001b[0m \u001b[32m━━━━━━━━━━━━━━━━━━━━\u001b[0m\u001b[37m\u001b[0m \u001b[1m0s\u001b[0m 22ms/step\n",
            "Predicted Price of AAPL for day 28: [[213.66145]]\n",
            "\u001b[1m1/1\u001b[0m \u001b[32m━━━━━━━━━━━━━━━━━━━━\u001b[0m\u001b[37m\u001b[0m \u001b[1m0s\u001b[0m 19ms/step\n",
            "Predicted Price of AAPL for day 29: [[213.53717]]\n",
            "\u001b[1m1/1\u001b[0m \u001b[32m━━━━━━━━━━━━━━━━━━━━\u001b[0m\u001b[37m\u001b[0m \u001b[1m0s\u001b[0m 18ms/step\n",
            "Predicted Price of AAPL for day 30: [[213.41556]]\n",
            "\u001b[1m1/1\u001b[0m \u001b[32m━━━━━━━━━━━━━━━━━━━━\u001b[0m\u001b[37m\u001b[0m \u001b[1m0s\u001b[0m 18ms/step\n",
            "Predicted Price of AAPL for day 31: [[213.2965]]\n",
            "\u001b[1m1/1\u001b[0m \u001b[32m━━━━━━━━━━━━━━━━━━━━\u001b[0m\u001b[37m\u001b[0m \u001b[1m0s\u001b[0m 19ms/step\n",
            "Predicted Price of AAPL for day 32: [[213.17995]]\n",
            "\u001b[1m1/1\u001b[0m \u001b[32m━━━━━━━━━━━━━━━━━━━━\u001b[0m\u001b[37m\u001b[0m \u001b[1m0s\u001b[0m 19ms/step\n",
            "Predicted Price of AAPL for day 33: [[213.06584]]\n",
            "\u001b[1m1/1\u001b[0m \u001b[32m━━━━━━━━━━━━━━━━━━━━\u001b[0m\u001b[37m\u001b[0m \u001b[1m0s\u001b[0m 19ms/step\n",
            "Predicted Price of AAPL for day 34: [[212.95412]]\n",
            "\u001b[1m1/1\u001b[0m \u001b[32m━━━━━━━━━━━━━━━━━━━━\u001b[0m\u001b[37m\u001b[0m \u001b[1m0s\u001b[0m 19ms/step\n",
            "Predicted Price of AAPL for day 35: [[212.84471]]\n",
            "\u001b[1m1/1\u001b[0m \u001b[32m━━━━━━━━━━━━━━━━━━━━\u001b[0m\u001b[37m\u001b[0m \u001b[1m0s\u001b[0m 19ms/step\n",
            "Predicted Price of AAPL for day 36: [[212.73763]]\n",
            "\u001b[1m1/1\u001b[0m \u001b[32m━━━━━━━━━━━━━━━━━━━━\u001b[0m\u001b[37m\u001b[0m \u001b[1m0s\u001b[0m 19ms/step\n",
            "Predicted Price of AAPL for day 37: [[212.63277]]\n",
            "\u001b[1m1/1\u001b[0m \u001b[32m━━━━━━━━━━━━━━━━━━━━\u001b[0m\u001b[37m\u001b[0m \u001b[1m0s\u001b[0m 18ms/step\n",
            "Predicted Price of AAPL for day 38: [[212.53012]]\n",
            "\u001b[1m1/1\u001b[0m \u001b[32m━━━━━━━━━━━━━━━━━━━━\u001b[0m\u001b[37m\u001b[0m \u001b[1m0s\u001b[0m 18ms/step\n",
            "Predicted Price of AAPL for day 39: [[212.42963]]\n",
            "\u001b[1m1/1\u001b[0m \u001b[32m━━━━━━━━━━━━━━━━━━━━\u001b[0m\u001b[37m\u001b[0m \u001b[1m0s\u001b[0m 19ms/step\n",
            "Predicted Price of AAPL for day 40: [[212.33124]]\n",
            "\u001b[1m1/1\u001b[0m \u001b[32m━━━━━━━━━━━━━━━━━━━━\u001b[0m\u001b[37m\u001b[0m \u001b[1m0s\u001b[0m 18ms/step\n",
            "Predicted Price of AAPL for day 41: [[212.2349]]\n",
            "\u001b[1m1/1\u001b[0m \u001b[32m━━━━━━━━━━━━━━━━━━━━\u001b[0m\u001b[37m\u001b[0m \u001b[1m0s\u001b[0m 18ms/step\n",
            "Predicted Price of AAPL for day 42: [[212.14056]]\n",
            "\u001b[1m1/1\u001b[0m \u001b[32m━━━━━━━━━━━━━━━━━━━━\u001b[0m\u001b[37m\u001b[0m \u001b[1m0s\u001b[0m 18ms/step\n",
            "Predicted Price of AAPL for day 43: [[212.04817]]\n",
            "\u001b[1m1/1\u001b[0m \u001b[32m━━━━━━━━━━━━━━━━━━━━\u001b[0m\u001b[37m\u001b[0m \u001b[1m0s\u001b[0m 19ms/step\n",
            "Predicted Price of AAPL for day 44: [[211.95767]]\n",
            "\u001b[1m1/1\u001b[0m \u001b[32m━━━━━━━━━━━━━━━━━━━━\u001b[0m\u001b[37m\u001b[0m \u001b[1m0s\u001b[0m 19ms/step\n",
            "Predicted Price of AAPL for day 45: [[211.869]]\n",
            "\u001b[1m1/1\u001b[0m \u001b[32m━━━━━━━━━━━━━━━━━━━━\u001b[0m\u001b[37m\u001b[0m \u001b[1m0s\u001b[0m 18ms/step\n",
            "Predicted Price of AAPL for day 46: [[211.7821]]\n",
            "\u001b[1m1/1\u001b[0m \u001b[32m━━━━━━━━━━━━━━━━━━━━\u001b[0m\u001b[37m\u001b[0m \u001b[1m0s\u001b[0m 18ms/step\n",
            "Predicted Price of AAPL for day 47: [[211.69693]]\n",
            "\u001b[1m1/1\u001b[0m \u001b[32m━━━━━━━━━━━━━━━━━━━━\u001b[0m\u001b[37m\u001b[0m \u001b[1m0s\u001b[0m 19ms/step\n",
            "Predicted Price of AAPL for day 48: [[211.61343]]\n",
            "\u001b[1m1/1\u001b[0m \u001b[32m━━━━━━━━━━━━━━━━━━━━\u001b[0m\u001b[37m\u001b[0m \u001b[1m0s\u001b[0m 19ms/step\n",
            "Predicted Price of AAPL for day 49: [[211.53157]]\n",
            "\u001b[1m1/1\u001b[0m \u001b[32m━━━━━━━━━━━━━━━━━━━━\u001b[0m\u001b[37m\u001b[0m \u001b[1m0s\u001b[0m 19ms/step\n",
            "Predicted Price of AAPL for day 50: [[211.45128]]\n",
            "\u001b[1m1/1\u001b[0m \u001b[32m━━━━━━━━━━━━━━━━━━━━\u001b[0m\u001b[37m\u001b[0m \u001b[1m0s\u001b[0m 19ms/step\n",
            "Predicted Price of AAPL for day 51: [[211.37253]]\n",
            "\u001b[1m1/1\u001b[0m \u001b[32m━━━━━━━━━━━━━━━━━━━━\u001b[0m\u001b[37m\u001b[0m \u001b[1m0s\u001b[0m 18ms/step\n",
            "Predicted Price of AAPL for day 52: [[211.29527]]\n",
            "\u001b[1m1/1\u001b[0m \u001b[32m━━━━━━━━━━━━━━━━━━━━\u001b[0m\u001b[37m\u001b[0m \u001b[1m0s\u001b[0m 18ms/step\n",
            "Predicted Price of AAPL for day 53: [[211.21947]]\n",
            "\u001b[1m1/1\u001b[0m \u001b[32m━━━━━━━━━━━━━━━━━━━━\u001b[0m\u001b[37m\u001b[0m \u001b[1m0s\u001b[0m 19ms/step\n",
            "Predicted Price of AAPL for day 54: [[211.14508]]\n",
            "\u001b[1m1/1\u001b[0m \u001b[32m━━━━━━━━━━━━━━━━━━━━\u001b[0m\u001b[37m\u001b[0m \u001b[1m0s\u001b[0m 18ms/step\n",
            "Predicted Price of AAPL for day 55: [[211.07208]]\n",
            "\u001b[1m1/1\u001b[0m \u001b[32m━━━━━━━━━━━━━━━━━━━━\u001b[0m\u001b[37m\u001b[0m \u001b[1m0s\u001b[0m 18ms/step\n",
            "Predicted Price of AAPL for day 56: [[211.00044]]\n",
            "\u001b[1m1/1\u001b[0m \u001b[32m━━━━━━━━━━━━━━━━━━━━\u001b[0m\u001b[37m\u001b[0m \u001b[1m0s\u001b[0m 18ms/step\n",
            "Predicted Price of AAPL for day 57: [[210.9301]]\n",
            "\u001b[1m1/1\u001b[0m \u001b[32m━━━━━━━━━━━━━━━━━━━━\u001b[0m\u001b[37m\u001b[0m \u001b[1m0s\u001b[0m 19ms/step\n",
            "Predicted Price of AAPL for day 58: [[210.86105]]\n",
            "\u001b[1m1/1\u001b[0m \u001b[32m━━━━━━━━━━━━━━━━━━━━\u001b[0m\u001b[37m\u001b[0m \u001b[1m0s\u001b[0m 19ms/step\n",
            "Predicted Price of AAPL for day 59: [[210.79327]]\n",
            "\u001b[1m1/1\u001b[0m \u001b[32m━━━━━━━━━━━━━━━━━━━━\u001b[0m\u001b[37m\u001b[0m \u001b[1m0s\u001b[0m 19ms/step\n",
            "Predicted Price of AAPL for day 60: [[210.7267]]\n"
          ]
        }
      ],
      "source": [
        "# Initialize lists for storing the predicted prices and the dates for prediction\n",
        "future_prices = []\n",
        "# last 60 days dates \n",
        "last_60_days = dates_only_np[-60:]\n",
        "# Number of days to predict into the future\n",
        "days_to_predict = 60\n",
        "\n",
        "# Predict the prices for the next 60 days\n",
        "for i in range(days_to_predict):\n",
        "    # Make a prediction\n",
        "    X_test = np.array([last60days_scaled])\n",
        "    X_test = np.reshape(X_test, (X_test.shape[0], X_test.shape[1], 1))\n",
        "    pred_price_scaled = model.predict(X_test)\n",
        "    pred_price_unscaled = scaler.inverse_transform(pred_price_scaled)\n",
        "    \n",
        "    # Store the predicted price\n",
        "    future_prices.append(pred_price_unscaled[0][0])\n",
        "    \n",
        "    # Prepare the new input for the next prediction\n",
        "    new_input = np.append(last60days_scaled[1:], pred_price_scaled, axis=0)\n",
        "    new_input = np.reshape(new_input, (new_input.shape[0], 1))\n",
        "    last60days_scaled = new_input\n",
        "    print(f\"Predicted Price of AAPL for day {i+1}: {pred_price_unscaled}\")\n",
        "\n",
        "# Unscale last60days_scaled\n",
        "last60days_unscaled = scaler.inverse_transform(last60days_scaled)\n",
        "last60days_unscaled = last60days_unscaled.flatten()\n",
        "\n",
        "x_historical = np.arange(-60, 0)\n",
        "\n",
        "# Create x-axis values for predicted data starting from the end of historical data\n",
        "x_predicted = np.arange(len(last_60_days), len(last60days_unscaled) + days_to_predict)\n",
        "\n",
        "# Combine x-axis values and data\n",
        "x_values = np.concatenate([x_historical, x_predicted])\n",
        "y_values = np.concatenate([last60days_unscaled, future_prices])\n",
        "\n",
        "# Plot the combined data\n",
        "\n",
        "# plt.figure(figsize=(16,8))\n",
        "# plt.plot(x_historical, last60days_unscaled, label='Last 60 Days Historical Price', color='blue')\n",
        "# plt.plot(x_predicted - len(last60days_unscaled), future_prices, label='30 Days Predicted Price', color='red')\n",
        "# plt.xlim(-60, 30)\n",
        "# plt.xlabel('Days')\n",
        "# plt.ylabel('Price')\n",
        "# # plt.plot(x_values, y_values, label='Price')\n",
        "# plt.legend()\n",
        "# plt.show()\n",
        "# Create x-axis values for historical prices\n",
        "# x_values = np.arange(-60, 0)\n",
        "\n",
        "# last60days = apple_quote.filter(['Close'])\n",
        "# # Optionally, visualize the predicted prices\n",
        "# plt.figure(figsize=(12, 6))\n",
        "# plt.plot(x_values, last60days_unscaled, label='last 60 days Historical Price')\n",
        "# plt.plot(range(1, days_to_predict + 1), future_prices, label='30 days Predicted Price')\n",
        "# plt.xlabel('Days')\n",
        "# plt.ylabel('Price')\n",
        "# plt.title('last 60 days with Next 30 Days Predicted Prices for AAPL')\n",
        "# plt.legend()\n",
        "# plt.grid(True)\n",
        "# plt.show()"
      ]
    },
    {
      "cell_type": "code",
      "execution_count": 40,
      "metadata": {},
      "outputs": [],
      "source": [
        "# import matplotlib.pyplot as plt\n",
        "# import pandas as pd\n",
        "\n",
        "# # Assuming you have a DataFrame 'apple_quote' with a 'Close' column containing historical prices\n",
        "# past_prices = apple_quote['Close'].values\n",
        "\n",
        "# # Generate a range of dates for plotting\n",
        "# dates = pd.date_range(start=apple_quote.index[0], periods=len(past_prices))\n",
        "# # predict_dates = pd.date_range(start=apple_quote.index[-1], periods=days_to_predict)\n",
        "\n",
        "# # Create a DataFrame for plotting\n",
        "# df_plot = pd.DataFrame({'Date': dates, 'Price': past_prices})\n",
        "# predict_plot = pd.DataFrame({'Date': days_to_predict, 'Price':future_prices})\n",
        "\n",
        "# # Plotting\n",
        "# plt.figure(figsize=(16,8))\n",
        "# plt.plot(df_plot['Date'], df_plot['Price'], label='Historical and predicted Prices')\n",
        "# # plt.plot(predict_plot['predict_dates'], predict_plot['future_prices'], label='Predicted Prices')\n",
        "# plt.xlabel('Date')\n",
        "# plt.ylabel('Price')\n",
        "# plt.title('AAPL Stock Price Prediction')\n",
        "# plt.legend()\n",
        "# plt.show()\n"
      ]
    },
    {
      "cell_type": "code",
      "execution_count": 41,
      "metadata": {
        "colab": {
          "base_uri": "https://localhost:8080/"
        },
        "id": "VJnFO4QqSEF9",
        "outputId": "bf50d1aa-e110-46a8-d9fe-7ba0031107fe"
      },
      "outputs": [
        {
          "name": "stdout",
          "output_type": "stream",
          "text": [
            "\u001b[1m1/1\u001b[0m \u001b[32m━━━━━━━━━━━━━━━━━━━━\u001b[0m\u001b[37m\u001b[0m \u001b[1m0s\u001b[0m 19ms/step\n",
            "[[210.66133]]\n"
          ]
        }
      ],
      "source": [
        "X_test = []\n",
        "X_test.append(last60days_scaled)\n",
        "X_test = np.array(X_test)\n",
        "X_test = np.reshape(X_test,(X_test.shape[0],X_test.shape[1],1))\n",
        "pred_price = model.predict(X_test)\n",
        "pred_price = scaler.inverse_transform(pred_price)\n",
        "print(pred_price)\n"
      ]
    },
    {
      "cell_type": "code",
      "execution_count": 42,
      "metadata": {},
      "outputs": [
        {
          "data": {
            "text/plain": [
              "(532, 60, 1)"
            ]
          },
          "execution_count": 42,
          "metadata": {},
          "output_type": "execute_result"
        }
      ],
      "source": [
        "x_test.shape"
      ]
    },
    {
      "cell_type": "markdown",
      "metadata": {},
      "source": [
        "### Load model that i saved above to test on unseen data"
      ]
    },
    {
      "cell_type": "code",
      "execution_count": 43,
      "metadata": {},
      "outputs": [
        {
          "data": {
            "text/html": [
              "<pre style=\"white-space:pre;overflow-x:auto;line-height:normal;font-family:Menlo,'DejaVu Sans Mono',consolas,'Courier New',monospace\"><span style=\"font-weight: bold\">Model: \"sequential\"</span>\n",
              "</pre>\n"
            ],
            "text/plain": [
              "\u001b[1mModel: \"sequential\"\u001b[0m\n"
            ]
          },
          "metadata": {},
          "output_type": "display_data"
        },
        {
          "data": {
            "text/html": [
              "<pre style=\"white-space:pre;overflow-x:auto;line-height:normal;font-family:Menlo,'DejaVu Sans Mono',consolas,'Courier New',monospace\">┏━━━━━━━━━━━━━━━━━━━━━━━━━━━━━━━━━┳━━━━━━━━━━━━━━━━━━━━━━━━┳━━━━━━━━━━━━━━━┓\n",
              "┃<span style=\"font-weight: bold\"> Layer (type)                    </span>┃<span style=\"font-weight: bold\"> Output Shape           </span>┃<span style=\"font-weight: bold\">       Param # </span>┃\n",
              "┡━━━━━━━━━━━━━━━━━━━━━━━━━━━━━━━━━╇━━━━━━━━━━━━━━━━━━━━━━━━╇━━━━━━━━━━━━━━━┩\n",
              "│ lstm (<span style=\"color: #0087ff; text-decoration-color: #0087ff\">LSTM</span>)                     │ (<span style=\"color: #00d7ff; text-decoration-color: #00d7ff\">None</span>, <span style=\"color: #00af00; text-decoration-color: #00af00\">60</span>, <span style=\"color: #00af00; text-decoration-color: #00af00\">50</span>)         │        <span style=\"color: #00af00; text-decoration-color: #00af00\">10,400</span> │\n",
              "├─────────────────────────────────┼────────────────────────┼───────────────┤\n",
              "│ lstm_1 (<span style=\"color: #0087ff; text-decoration-color: #0087ff\">LSTM</span>)                   │ (<span style=\"color: #00d7ff; text-decoration-color: #00d7ff\">None</span>, <span style=\"color: #00af00; text-decoration-color: #00af00\">50</span>)             │        <span style=\"color: #00af00; text-decoration-color: #00af00\">20,200</span> │\n",
              "├─────────────────────────────────┼────────────────────────┼───────────────┤\n",
              "│ dense (<span style=\"color: #0087ff; text-decoration-color: #0087ff\">Dense</span>)                   │ (<span style=\"color: #00d7ff; text-decoration-color: #00d7ff\">None</span>, <span style=\"color: #00af00; text-decoration-color: #00af00\">25</span>)             │         <span style=\"color: #00af00; text-decoration-color: #00af00\">1,275</span> │\n",
              "├─────────────────────────────────┼────────────────────────┼───────────────┤\n",
              "│ dense_1 (<span style=\"color: #0087ff; text-decoration-color: #0087ff\">Dense</span>)                 │ (<span style=\"color: #00d7ff; text-decoration-color: #00d7ff\">None</span>, <span style=\"color: #00af00; text-decoration-color: #00af00\">1</span>)              │            <span style=\"color: #00af00; text-decoration-color: #00af00\">26</span> │\n",
              "└─────────────────────────────────┴────────────────────────┴───────────────┘\n",
              "</pre>\n"
            ],
            "text/plain": [
              "┏━━━━━━━━━━━━━━━━━━━━━━━━━━━━━━━━━┳━━━━━━━━━━━━━━━━━━━━━━━━┳━━━━━━━━━━━━━━━┓\n",
              "┃\u001b[1m \u001b[0m\u001b[1mLayer (type)                   \u001b[0m\u001b[1m \u001b[0m┃\u001b[1m \u001b[0m\u001b[1mOutput Shape          \u001b[0m\u001b[1m \u001b[0m┃\u001b[1m \u001b[0m\u001b[1m      Param #\u001b[0m\u001b[1m \u001b[0m┃\n",
              "┡━━━━━━━━━━━━━━━━━━━━━━━━━━━━━━━━━╇━━━━━━━━━━━━━━━━━━━━━━━━╇━━━━━━━━━━━━━━━┩\n",
              "│ lstm (\u001b[38;5;33mLSTM\u001b[0m)                     │ (\u001b[38;5;45mNone\u001b[0m, \u001b[38;5;34m60\u001b[0m, \u001b[38;5;34m50\u001b[0m)         │        \u001b[38;5;34m10,400\u001b[0m │\n",
              "├─────────────────────────────────┼────────────────────────┼───────────────┤\n",
              "│ lstm_1 (\u001b[38;5;33mLSTM\u001b[0m)                   │ (\u001b[38;5;45mNone\u001b[0m, \u001b[38;5;34m50\u001b[0m)             │        \u001b[38;5;34m20,200\u001b[0m │\n",
              "├─────────────────────────────────┼────────────────────────┼───────────────┤\n",
              "│ dense (\u001b[38;5;33mDense\u001b[0m)                   │ (\u001b[38;5;45mNone\u001b[0m, \u001b[38;5;34m25\u001b[0m)             │         \u001b[38;5;34m1,275\u001b[0m │\n",
              "├─────────────────────────────────┼────────────────────────┼───────────────┤\n",
              "│ dense_1 (\u001b[38;5;33mDense\u001b[0m)                 │ (\u001b[38;5;45mNone\u001b[0m, \u001b[38;5;34m1\u001b[0m)              │            \u001b[38;5;34m26\u001b[0m │\n",
              "└─────────────────────────────────┴────────────────────────┴───────────────┘\n"
            ]
          },
          "metadata": {},
          "output_type": "display_data"
        },
        {
          "data": {
            "text/html": [
              "<pre style=\"white-space:pre;overflow-x:auto;line-height:normal;font-family:Menlo,'DejaVu Sans Mono',consolas,'Courier New',monospace\"><span style=\"font-weight: bold\"> Total params: </span><span style=\"color: #00af00; text-decoration-color: #00af00\">95,705</span> (373.85 KB)\n",
              "</pre>\n"
            ],
            "text/plain": [
              "\u001b[1m Total params: \u001b[0m\u001b[38;5;34m95,705\u001b[0m (373.85 KB)\n"
            ]
          },
          "metadata": {},
          "output_type": "display_data"
        },
        {
          "data": {
            "text/html": [
              "<pre style=\"white-space:pre;overflow-x:auto;line-height:normal;font-family:Menlo,'DejaVu Sans Mono',consolas,'Courier New',monospace\"><span style=\"font-weight: bold\"> Trainable params: </span><span style=\"color: #00af00; text-decoration-color: #00af00\">31,901</span> (124.61 KB)\n",
              "</pre>\n"
            ],
            "text/plain": [
              "\u001b[1m Trainable params: \u001b[0m\u001b[38;5;34m31,901\u001b[0m (124.61 KB)\n"
            ]
          },
          "metadata": {},
          "output_type": "display_data"
        },
        {
          "data": {
            "text/html": [
              "<pre style=\"white-space:pre;overflow-x:auto;line-height:normal;font-family:Menlo,'DejaVu Sans Mono',consolas,'Courier New',monospace\"><span style=\"font-weight: bold\"> Non-trainable params: </span><span style=\"color: #00af00; text-decoration-color: #00af00\">0</span> (0.00 B)\n",
              "</pre>\n"
            ],
            "text/plain": [
              "\u001b[1m Non-trainable params: \u001b[0m\u001b[38;5;34m0\u001b[0m (0.00 B)\n"
            ]
          },
          "metadata": {},
          "output_type": "display_data"
        },
        {
          "data": {
            "text/html": [
              "<pre style=\"white-space:pre;overflow-x:auto;line-height:normal;font-family:Menlo,'DejaVu Sans Mono',consolas,'Courier New',monospace\"><span style=\"font-weight: bold\"> Optimizer params: </span><span style=\"color: #00af00; text-decoration-color: #00af00\">63,804</span> (249.24 KB)\n",
              "</pre>\n"
            ],
            "text/plain": [
              "\u001b[1m Optimizer params: \u001b[0m\u001b[38;5;34m63,804\u001b[0m (249.24 KB)\n"
            ]
          },
          "metadata": {},
          "output_type": "display_data"
        },
        {
          "name": "stdout",
          "output_type": "stream",
          "text": [
            "None\n"
          ]
        }
      ],
      "source": [
        "loaded_model = keras.models.load_model('AI_investment.keras')\n",
        "\n",
        "# Use the loaded model\n",
        "print(loaded_model.summary())"
      ]
    },
    {
      "cell_type": "code",
      "execution_count": 44,
      "metadata": {},
      "outputs": [],
      "source": [
        "# import pickle\n",
        "\n",
        "# # Load the model\n",
        "# with open('LSTM.pkl', 'rb') as f:\n",
        "#     loaded_model = pickle.load(f)\n",
        "\n",
        "# # Use the loaded model\n",
        "# print(loaded_model.summary())"
      ]
    },
    {
      "cell_type": "code",
      "execution_count": 45,
      "metadata": {},
      "outputs": [
        {
          "data": {
            "text/plain": [
              "<bound method NDFrame.head of                                  Open        High         Low       Close  \\\n",
              "Date                                                                        \n",
              "2012-01-03 00:00:00-05:00    0.327909    0.330202    0.321259    0.321947   \n",
              "2012-01-04 00:00:00-05:00    0.322176    0.326991    0.319195    0.325616   \n",
              "2012-01-05 00:00:00-05:00    0.324010    0.338915    0.322635    0.337310   \n",
              "2012-01-06 00:00:00-05:00    0.337081    0.337310    0.329514    0.333412   \n",
              "2012-01-09 00:00:00-05:00    0.333641    0.339833    0.331119    0.333412   \n",
              "...                               ...         ...         ...         ...   \n",
              "2024-07-23 00:00:00-04:00  122.779999  124.690002  122.099998  122.589996   \n",
              "2024-07-24 00:00:00-04:00  119.169998  119.949997  113.440002  114.250000   \n",
              "2024-07-25 00:00:00-04:00  113.040001  116.629997  106.300003  112.279999   \n",
              "2024-07-26 00:00:00-04:00  116.190002  116.199997  111.580002  113.059998   \n",
              "2024-07-29 00:00:00-04:00  113.690002  116.279999  111.300003  111.589996   \n",
              "\n",
              "                              Volume  Dividends  Stock Splits  \n",
              "Date                                                           \n",
              "2012-01-03 00:00:00-05:00  468044000        0.0           0.0  \n",
              "2012-01-04 00:00:00-05:00  347372000        0.0           0.0  \n",
              "2012-01-05 00:00:00-05:00  563548000        0.0           0.0  \n",
              "2012-01-06 00:00:00-05:00  533252000        0.0           0.0  \n",
              "2012-01-09 00:00:00-05:00  508244000        0.0           0.0  \n",
              "...                              ...        ...           ...  \n",
              "2024-07-23 00:00:00-04:00  173911000        0.0           0.0  \n",
              "2024-07-24 00:00:00-04:00  327776900        0.0           0.0  \n",
              "2024-07-25 00:00:00-04:00  460067000        0.0           0.0  \n",
              "2024-07-26 00:00:00-04:00  293399100        0.0           0.0  \n",
              "2024-07-29 00:00:00-04:00  247071400        0.0           0.0  \n",
              "\n",
              "[3162 rows x 7 columns]>"
            ]
          },
          "execution_count": 45,
          "metadata": {},
          "output_type": "execute_result"
        }
      ],
      "source": [
        "#get quote\n",
        "# from pandas_datareader import data as pdr\n",
        "# import yfinance as yf\n",
        "# yf.pdr_override()\n",
        "# dt = pdr.get_data_yahoo(\"msft\", start=\"2012-01-01\", end=\"2022-11-13\")\n",
        "# dt.head\n",
        "\n",
        "# Download MSFT data\n",
        "ticker = yf.Ticker(\"nvda\")\n",
        "dt = ticker.history(start=\"2012-01-01\", end=date.today())  \n",
        "dt.head"
      ]
    },
    {
      "cell_type": "code",
      "execution_count": 46,
      "metadata": {
        "colab": {
          "base_uri": "https://localhost:8080/"
        },
        "id": "67bw58PqNuDA",
        "outputId": "557b9bda-3a0e-4a15-b160-ff81930e9243"
      },
      "outputs": [],
      "source": [
        "new_quote = dt\n",
        "new_quote\n",
        "new_df = new_quote.filter(['Close'])\n",
        "last60days = new_df[-60:].values\n",
        "last60days\n",
        "scaler = MinMaxScaler(feature_range=(0,1))\n",
        "scalar = scaler.fit(last60days)\n",
        "last60days_scaled = scaler.transform(last60days)\n",
        "last60days_scaled\n",
        "\n",
        "datesNVDA = dt.index.to_numpy()\n",
        "# datesNVDA\n"
      ]
    },
    {
      "cell_type": "code",
      "execution_count": 47,
      "metadata": {},
      "outputs": [
        {
          "name": "stdout",
          "output_type": "stream",
          "text": [
            "\u001b[1m1/1\u001b[0m \u001b[32m━━━━━━━━━━━━━━━━━━━━\u001b[0m\u001b[37m\u001b[0m \u001b[1m0s\u001b[0m 213ms/step\n",
            "Predicted Price for 2024-07-29 00:00:00-04:00: 111.79657745361328\n",
            "[[[0.        ]\n",
            "  [0.05970972]\n",
            "  [0.12703381]\n",
            "  [0.09516989]\n",
            "  [0.09231711]\n",
            "  [0.058866  ]\n",
            "  [0.08158845]\n",
            "  [0.0920559 ]\n",
            "  [0.11128266]\n",
            "  [0.17705972]\n",
            "  [0.17161522]\n",
            "  [0.13384446]\n",
            "  [0.18007346]\n",
            "  [0.19224844]\n",
            "  [0.18348882]\n",
            "  [0.36127209]\n",
            "  [0.41491432]\n",
            "  [0.5642288 ]\n",
            "  [0.58279257]\n",
            "  [0.49590003]\n",
            "  [0.47848151]\n",
            "  [0.58630849]\n",
            "  [0.61517875]\n",
            "  [0.73578377]\n",
            "  [0.7068128 ]\n",
            "  [0.70460293]\n",
            "  [0.72272475]\n",
            "  [0.70524446]\n",
            "  [0.79144074]\n",
            "  [0.88004832]\n",
            "  [0.92565816]\n",
            "  [0.90757481]\n",
            "  [1.        ]\n",
            "  [0.90355639]\n",
            "  [0.81896739]\n",
            "  [0.64898566]\n",
            "  [0.80932297]\n",
            "  [0.81555172]\n",
            "  [0.76712895]\n",
            "  [0.75808743]\n",
            "  [0.7733577 ]\n",
            "  [0.74060698]\n",
            "  [0.85332538]\n",
            "  [0.80409905]\n",
            "  [0.85171795]\n",
            "  [0.91561196]\n",
            "  [0.98653813]\n",
            "  [0.83564412]\n",
            "  [0.87261423]\n",
            "  [0.85654024]\n",
            "  [0.814748  ]\n",
            "  [0.64657452]\n",
            "  [0.70886094]\n",
            "  [0.64536902]\n",
            "  [0.75808743]\n",
            "  [0.73899955]\n",
            "  [0.57142897]\n",
            "  [0.5318469 ]\n",
            "  [0.54751895]\n",
            "  [0.51798309]]]\n",
            "(1, 60, 1)\n"
          ]
        }
      ],
      "source": [
        "X_test = []\n",
        "dates_for_prediction = []  # Create list to store dates\n",
        "\n",
        "actual_shape = last60days_scaled.shape  # Get the actual shape\n",
        "# Assuming it has a different shape (e.g., 60 elements)\n",
        "X_test.append(last60days_scaled)\n",
        "X_test = np.array(X_test)\n",
        "X_test = np.reshape(X_test,(X_test.shape[0],X_test.shape[1],1))\n",
        "dates_for_prediction.append(datesNVDA[-1])  # Add the last date from your date list\n",
        "\n",
        "X_test = np.array(X_test)\n",
        "X_test = np.reshape(X_test,(X_test.shape[0],X_test.shape[1],1))\n",
        "\n",
        "pred_price = loaded_model.predict(X_test)\n",
        "pred_price = scaler.inverse_transform(pred_price)\n",
        "\n",
        "# Print the predicted price along with the corresponding date\n",
        "print(f\"Predicted Price for {dates_for_prediction[0]}: {pred_price[0][0]}\")\n",
        "\n",
        "print(X_test)\n",
        "print(X_test.shape)"
      ]
    },
    {
      "cell_type": "markdown",
      "metadata": {},
      "source": [
        "same plot as above\n"
      ]
    },
    {
      "cell_type": "code",
      "execution_count": 48,
      "metadata": {},
      "outputs": [],
      "source": [
        "# #plot the data\n",
        "# train = data[:last60days]\n",
        "# valid = data[last60days:]\n",
        "# valid['Predictions'] = predictions\n",
        "# #visualise the data\n",
        "# plt.figure(figsize=(16,8))\n",
        "# plt.title('Model')\n",
        "# plt.xlabel('Date',fontsize=18)\n",
        "# plt.ylabel('Price USD',fontsize=18)\n",
        "# plt.plot(train['Close'])\n",
        "# plt.plot(valid[['Close','Predictions']])\n",
        "# #plt.plot(valid['Predictions'])\n",
        "# plt.legend(['Train','Val','Predictions'], loc='lower right')\n",
        "# plt.show"
      ]
    },
    {
      "cell_type": "code",
      "execution_count": 49,
      "metadata": {
        "colab": {
          "base_uri": "https://localhost:8080/"
        },
        "id": "Yit5AD3kOsCO",
        "outputId": "68826a31-e2c8-4df4-cb04-0bcd36c38513"
      },
      "outputs": [
        {
          "name": "stdout",
          "output_type": "stream",
          "text": [
            "[[[0.        ]\n",
            "  [0.05970972]\n",
            "  [0.12703381]\n",
            "  [0.09516989]\n",
            "  [0.09231711]\n",
            "  [0.058866  ]\n",
            "  [0.08158845]\n",
            "  [0.0920559 ]\n",
            "  [0.11128266]\n",
            "  [0.17705972]\n",
            "  [0.17161522]\n",
            "  [0.13384446]\n",
            "  [0.18007346]\n",
            "  [0.19224844]\n",
            "  [0.18348882]\n",
            "  [0.36127209]\n",
            "  [0.41491432]\n",
            "  [0.5642288 ]\n",
            "  [0.58279257]\n",
            "  [0.49590003]\n",
            "  [0.47848151]\n",
            "  [0.58630849]\n",
            "  [0.61517875]\n",
            "  [0.73578377]\n",
            "  [0.7068128 ]\n",
            "  [0.70460293]\n",
            "  [0.72272475]\n",
            "  [0.70524446]\n",
            "  [0.79144074]\n",
            "  [0.88004832]\n",
            "  [0.92565816]\n",
            "  [0.90757481]\n",
            "  [1.        ]\n",
            "  [0.90355639]\n",
            "  [0.81896739]\n",
            "  [0.64898566]\n",
            "  [0.80932297]\n",
            "  [0.81555172]\n",
            "  [0.76712895]\n",
            "  [0.75808743]\n",
            "  [0.7733577 ]\n",
            "  [0.74060698]\n",
            "  [0.85332538]\n",
            "  [0.80409905]\n",
            "  [0.85171795]\n",
            "  [0.91561196]\n",
            "  [0.98653813]\n",
            "  [0.83564412]\n",
            "  [0.87261423]\n",
            "  [0.85654024]\n",
            "  [0.814748  ]\n",
            "  [0.64657452]\n",
            "  [0.70886094]\n",
            "  [0.64536902]\n",
            "  [0.75808743]\n",
            "  [0.73899955]\n",
            "  [0.57142897]\n",
            "  [0.5318469 ]\n",
            "  [0.54751895]\n",
            "  [0.51798309]]]\n",
            "(1, 60, 1)\n"
          ]
        }
      ],
      "source": [
        "X_test = []\n",
        "X_test.append(last60days_scaled)\n",
        "X_test = np.array(X_test)\n",
        "X_test = np.reshape(X_test,(X_test.shape[0],X_test.shape[1],1))\n",
        "# new_pred_price = model.predict(X_test)\n",
        "# pred_price = scaler.inverse_transform(new_pred_price )\n",
        "# print(pred_price)\n",
        "print(X_test)\n",
        "print(X_test.shape)"
      ]
    },
    {
      "cell_type": "markdown",
      "metadata": {},
      "source": [
        "dont need to rebuild just test data\n"
      ]
    },
    {
      "cell_type": "code",
      "execution_count": 50,
      "metadata": {
        "id": "8UltWIAPTLRH"
      },
      "outputs": [],
      "source": [
        "# #Build LSTM model\n",
        "# model = Sequential()\n",
        "# model.add(LSTM(50,return_sequences=True, input_shape=(X_test.shape[1], 1)))\n",
        "\n",
        "# model.add(LSTM(50,return_sequences=False))\n",
        "# model.add(Dense(25))\n",
        "# model.add(Dense(1))\n",
        "\n",
        "# #Compile the model\n",
        "# model.compile(optimizer='adam',loss='mean_squared_error')\n",
        "# #Train the model\n",
        "# model.fit(X_test,batch_size=1,epochs=1)"
      ]
    },
    {
      "cell_type": "code",
      "execution_count": 51,
      "metadata": {
        "colab": {
          "base_uri": "https://localhost:8080/"
        },
        "id": "AogH7FNcTZ49",
        "outputId": "d6b5f5fe-db77-4200-db6e-6b650bfdbcc3"
      },
      "outputs": [
        {
          "name": "stdout",
          "output_type": "stream",
          "text": [
            "\u001b[1m1/1\u001b[0m \u001b[32m━━━━━━━━━━━━━━━━━━━━\u001b[0m\u001b[37m\u001b[0m \u001b[1m0s\u001b[0m 19ms/step\n",
            "Price of yfinance.Ticker object <NVDA> tomorrow :[[111.79658]]\n"
          ]
        }
      ],
      "source": [
        "pred_price = loaded_model.predict(X_test)\n",
        "pred_price = scaler.inverse_transform(pred_price)\n",
        "print(f'Price of {ticker} tomorrow :{pred_price}')"
      ]
    },
    {
      "cell_type": "code",
      "execution_count": 52,
      "metadata": {},
      "outputs": [],
      "source": [
        "# import pickle\n",
        "\n",
        "# # Load the model\n",
        "# with open('AI_investment.pkl', 'rb') as f:\n",
        "#     loaded_model = pickle.load(f)\n",
        "\n",
        "# # Use the loaded model\n",
        "# print(loaded_model.summary())"
      ]
    },
    {
      "cell_type": "markdown",
      "metadata": {},
      "source": [
        "use the saved model to predict new data"
      ]
    },
    {
      "cell_type": "code",
      "execution_count": 53,
      "metadata": {},
      "outputs": [],
      "source": [
        "# import glob\n",
        "\n",
        "# # Assuming models are saved with extensions like '.h5' or '.pb'\n",
        "# model_extension = '.h5'  # Adjust based on your extension (e.g., '.pb' for TensorFlow SavedModel)\n",
        "# model_dir = './'  # Replace with your model directory path\n",
        "\n",
        "# list_for_models = glob.glob(f\"{model_dir}/*.{model_extension}\")\n",
        "\n",
        "# if list_for_models:\n",
        "#   print(\"List of saved models:\")\n",
        "#   for model_path in list_for_models:\n",
        "#     print(model_path)  # Prints the complete path to each saved model\n",
        "# else:\n",
        "#   print(\"No models found in the specified directory.\")"
      ]
    },
    {
      "cell_type": "markdown",
      "metadata": {},
      "source": [
        "not proper extension saved"
      ]
    },
    {
      "cell_type": "code",
      "execution_count": 54,
      "metadata": {},
      "outputs": [],
      "source": [
        "# import os\n",
        "\n",
        "# # Assuming models are saved in a directory called 'models'\n",
        "# model_dir = './'  # Replace with your model directory path\n",
        "\n",
        "# list_for_models = os.listdir(model_dir)\n",
        "\n",
        "# if list_for_models:\n",
        "#   print(\"List of saved models (filenames):\")\n",
        "#   for model_name in list_for_models:\n",
        "#     print(model_name)  # Prints only the filename of each saved model\n",
        "# else:\n",
        "#   print(\"No models found in the specified directory.\")"
      ]
    },
    {
      "cell_type": "markdown",
      "metadata": {},
      "source": [
        "60 days later based on my predictions, will be 112, and tomorrow will be 119"
      ]
    },
    {
      "cell_type": "code",
      "execution_count": 55,
      "metadata": {},
      "outputs": [
        {
          "name": "stdout",
          "output_type": "stream",
          "text": [
            "\u001b[1m1/1\u001b[0m \u001b[32m━━━━━━━━━━━━━━━━━━━━\u001b[0m\u001b[37m\u001b[0m \u001b[1m0s\u001b[0m 20ms/step\n",
            "Predicted Price of NVDA for day 1: [[111.79658]]\n",
            "\u001b[1m1/1\u001b[0m \u001b[32m━━━━━━━━━━━━━━━━━━━━\u001b[0m\u001b[37m\u001b[0m \u001b[1m0s\u001b[0m 19ms/step\n",
            "Predicted Price of NVDA for day 2: [[111.63743]]\n",
            "\u001b[1m1/1\u001b[0m \u001b[32m━━━━━━━━━━━━━━━━━━━━\u001b[0m\u001b[37m\u001b[0m \u001b[1m0s\u001b[0m 19ms/step\n",
            "Predicted Price of NVDA for day 3: [[111.781555]]\n",
            "\u001b[1m1/1\u001b[0m \u001b[32m━━━━━━━━━━━━━━━━━━━━\u001b[0m\u001b[37m\u001b[0m \u001b[1m0s\u001b[0m 19ms/step\n",
            "Predicted Price of NVDA for day 4: [[112.055664]]\n",
            "\u001b[1m1/1\u001b[0m \u001b[32m━━━━━━━━━━━━━━━━━━━━\u001b[0m\u001b[37m\u001b[0m \u001b[1m0s\u001b[0m 19ms/step\n",
            "Predicted Price of NVDA for day 5: [[112.384766]]\n",
            "\u001b[1m1/1\u001b[0m \u001b[32m━━━━━━━━━━━━━━━━━━━━\u001b[0m\u001b[37m\u001b[0m \u001b[1m0s\u001b[0m 19ms/step\n",
            "Predicted Price of NVDA for day 6: [[112.72685]]\n",
            "\u001b[1m1/1\u001b[0m \u001b[32m━━━━━━━━━━━━━━━━━━━━\u001b[0m\u001b[37m\u001b[0m \u001b[1m0s\u001b[0m 19ms/step\n",
            "Predicted Price of NVDA for day 7: [[113.05488]]\n",
            "\u001b[1m1/1\u001b[0m \u001b[32m━━━━━━━━━━━━━━━━━━━━\u001b[0m\u001b[37m\u001b[0m \u001b[1m0s\u001b[0m 19ms/step\n",
            "Predicted Price of NVDA for day 8: [[113.35125]]\n",
            "\u001b[1m1/1\u001b[0m \u001b[32m━━━━━━━━━━━━━━━━━━━━\u001b[0m\u001b[37m\u001b[0m \u001b[1m0s\u001b[0m 19ms/step\n",
            "Predicted Price of NVDA for day 9: [[113.6057]]\n",
            "\u001b[1m1/1\u001b[0m \u001b[32m━━━━━━━━━━━━━━━━━━━━\u001b[0m\u001b[37m\u001b[0m \u001b[1m0s\u001b[0m 19ms/step\n",
            "Predicted Price of NVDA for day 10: [[113.81377]]\n",
            "\u001b[1m1/1\u001b[0m \u001b[32m━━━━━━━━━━━━━━━━━━━━\u001b[0m\u001b[37m\u001b[0m \u001b[1m0s\u001b[0m 18ms/step\n",
            "Predicted Price of NVDA for day 11: [[113.97551]]\n",
            "\u001b[1m1/1\u001b[0m \u001b[32m━━━━━━━━━━━━━━━━━━━━\u001b[0m\u001b[37m\u001b[0m \u001b[1m0s\u001b[0m 19ms/step\n",
            "Predicted Price of NVDA for day 12: [[114.09425]]\n",
            "\u001b[1m1/1\u001b[0m \u001b[32m━━━━━━━━━━━━━━━━━━━━\u001b[0m\u001b[37m\u001b[0m \u001b[1m0s\u001b[0m 18ms/step\n",
            "Predicted Price of NVDA for day 13: [[114.17529]]\n",
            "\u001b[1m1/1\u001b[0m \u001b[32m━━━━━━━━━━━━━━━━━━━━\u001b[0m\u001b[37m\u001b[0m \u001b[1m0s\u001b[0m 19ms/step\n",
            "Predicted Price of NVDA for day 14: [[114.22496]]\n",
            "\u001b[1m1/1\u001b[0m \u001b[32m━━━━━━━━━━━━━━━━━━━━\u001b[0m\u001b[37m\u001b[0m \u001b[1m0s\u001b[0m 19ms/step\n",
            "Predicted Price of NVDA for day 15: [[114.2498]]\n",
            "\u001b[1m1/1\u001b[0m \u001b[32m━━━━━━━━━━━━━━━━━━━━\u001b[0m\u001b[37m\u001b[0m \u001b[1m0s\u001b[0m 18ms/step\n",
            "Predicted Price of NVDA for day 16: [[114.25596]]\n",
            "\u001b[1m1/1\u001b[0m \u001b[32m━━━━━━━━━━━━━━━━━━━━\u001b[0m\u001b[37m\u001b[0m \u001b[1m0s\u001b[0m 19ms/step\n",
            "Predicted Price of NVDA for day 17: [[114.24885]]\n",
            "\u001b[1m1/1\u001b[0m \u001b[32m━━━━━━━━━━━━━━━━━━━━\u001b[0m\u001b[37m\u001b[0m \u001b[1m0s\u001b[0m 18ms/step\n",
            "Predicted Price of NVDA for day 18: [[114.23296]]\n",
            "\u001b[1m1/1\u001b[0m \u001b[32m━━━━━━━━━━━━━━━━━━━━\u001b[0m\u001b[37m\u001b[0m \u001b[1m0s\u001b[0m 19ms/step\n",
            "Predicted Price of NVDA for day 19: [[114.21178]]\n",
            "\u001b[1m1/1\u001b[0m \u001b[32m━━━━━━━━━━━━━━━━━━━━\u001b[0m\u001b[37m\u001b[0m \u001b[1m0s\u001b[0m 18ms/step\n",
            "Predicted Price of NVDA for day 20: [[114.18793]]\n",
            "\u001b[1m1/1\u001b[0m \u001b[32m━━━━━━━━━━━━━━━━━━━━\u001b[0m\u001b[37m\u001b[0m \u001b[1m0s\u001b[0m 19ms/step\n",
            "Predicted Price of NVDA for day 21: [[114.16321]]\n",
            "\u001b[1m1/1\u001b[0m \u001b[32m━━━━━━━━━━━━━━━━━━━━\u001b[0m\u001b[37m\u001b[0m \u001b[1m0s\u001b[0m 19ms/step\n",
            "Predicted Price of NVDA for day 22: [[114.13876]]\n",
            "\u001b[1m1/1\u001b[0m \u001b[32m━━━━━━━━━━━━━━━━━━━━\u001b[0m\u001b[37m\u001b[0m \u001b[1m0s\u001b[0m 19ms/step\n",
            "Predicted Price of NVDA for day 23: [[114.11526]]\n",
            "\u001b[1m1/1\u001b[0m \u001b[32m━━━━━━━━━━━━━━━━━━━━\u001b[0m\u001b[37m\u001b[0m \u001b[1m0s\u001b[0m 33ms/step\n",
            "Predicted Price of NVDA for day 24: [[114.092964]]\n",
            "\u001b[1m1/1\u001b[0m \u001b[32m━━━━━━━━━━━━━━━━━━━━\u001b[0m\u001b[37m\u001b[0m \u001b[1m0s\u001b[0m 24ms/step\n",
            "Predicted Price of NVDA for day 25: [[114.07192]]\n",
            "\u001b[1m1/1\u001b[0m \u001b[32m━━━━━━━━━━━━━━━━━━━━\u001b[0m\u001b[37m\u001b[0m \u001b[1m0s\u001b[0m 21ms/step\n",
            "Predicted Price of NVDA for day 26: [[114.05202]]\n",
            "\u001b[1m1/1\u001b[0m \u001b[32m━━━━━━━━━━━━━━━━━━━━\u001b[0m\u001b[37m\u001b[0m \u001b[1m0s\u001b[0m 19ms/step\n",
            "Predicted Price of NVDA for day 27: [[114.03305]]\n",
            "\u001b[1m1/1\u001b[0m \u001b[32m━━━━━━━━━━━━━━━━━━━━\u001b[0m\u001b[37m\u001b[0m \u001b[1m0s\u001b[0m 19ms/step\n",
            "Predicted Price of NVDA for day 28: [[114.01486]]\n",
            "\u001b[1m1/1\u001b[0m \u001b[32m━━━━━━━━━━━━━━━━━━━━\u001b[0m\u001b[37m\u001b[0m \u001b[1m0s\u001b[0m 18ms/step\n",
            "Predicted Price of NVDA for day 29: [[113.99723]]\n",
            "\u001b[1m1/1\u001b[0m \u001b[32m━━━━━━━━━━━━━━━━━━━━\u001b[0m\u001b[37m\u001b[0m \u001b[1m0s\u001b[0m 19ms/step\n",
            "Predicted Price of NVDA for day 30: [[113.979996]]\n",
            "\u001b[1m1/1\u001b[0m \u001b[32m━━━━━━━━━━━━━━━━━━━━\u001b[0m\u001b[37m\u001b[0m \u001b[1m0s\u001b[0m 18ms/step\n",
            "Predicted Price of NVDA for day 31: [[113.963066]]\n",
            "\u001b[1m1/1\u001b[0m \u001b[32m━━━━━━━━━━━━━━━━━━━━\u001b[0m\u001b[37m\u001b[0m \u001b[1m0s\u001b[0m 19ms/step\n",
            "Predicted Price of NVDA for day 32: [[113.94636]]\n",
            "\u001b[1m1/1\u001b[0m \u001b[32m━━━━━━━━━━━━━━━━━━━━\u001b[0m\u001b[37m\u001b[0m \u001b[1m0s\u001b[0m 18ms/step\n",
            "Predicted Price of NVDA for day 33: [[113.929825]]\n",
            "\u001b[1m1/1\u001b[0m \u001b[32m━━━━━━━━━━━━━━━━━━━━\u001b[0m\u001b[37m\u001b[0m \u001b[1m0s\u001b[0m 18ms/step\n",
            "Predicted Price of NVDA for day 34: [[113.91347]]\n",
            "\u001b[1m1/1\u001b[0m \u001b[32m━━━━━━━━━━━━━━━━━━━━\u001b[0m\u001b[37m\u001b[0m \u001b[1m0s\u001b[0m 19ms/step\n",
            "Predicted Price of NVDA for day 35: [[113.89729]]\n",
            "\u001b[1m1/1\u001b[0m \u001b[32m━━━━━━━━━━━━━━━━━━━━\u001b[0m\u001b[37m\u001b[0m \u001b[1m0s\u001b[0m 18ms/step\n",
            "Predicted Price of NVDA for day 36: [[113.88132]]\n",
            "\u001b[1m1/1\u001b[0m \u001b[32m━━━━━━━━━━━━━━━━━━━━\u001b[0m\u001b[37m\u001b[0m \u001b[1m0s\u001b[0m 18ms/step\n",
            "Predicted Price of NVDA for day 37: [[113.8656]]\n",
            "\u001b[1m1/1\u001b[0m \u001b[32m━━━━━━━━━━━━━━━━━━━━\u001b[0m\u001b[37m\u001b[0m \u001b[1m0s\u001b[0m 18ms/step\n",
            "Predicted Price of NVDA for day 38: [[113.850136]]\n",
            "\u001b[1m1/1\u001b[0m \u001b[32m━━━━━━━━━━━━━━━━━━━━\u001b[0m\u001b[37m\u001b[0m \u001b[1m0s\u001b[0m 19ms/step\n",
            "Predicted Price of NVDA for day 39: [[113.83496]]\n",
            "\u001b[1m1/1\u001b[0m \u001b[32m━━━━━━━━━━━━━━━━━━━━\u001b[0m\u001b[37m\u001b[0m \u001b[1m0s\u001b[0m 18ms/step\n",
            "Predicted Price of NVDA for day 40: [[113.82009]]\n",
            "\u001b[1m1/1\u001b[0m \u001b[32m━━━━━━━━━━━━━━━━━━━━\u001b[0m\u001b[37m\u001b[0m \u001b[1m0s\u001b[0m 19ms/step\n",
            "Predicted Price of NVDA for day 41: [[113.80554]]\n",
            "\u001b[1m1/1\u001b[0m \u001b[32m━━━━━━━━━━━━━━━━━━━━\u001b[0m\u001b[37m\u001b[0m \u001b[1m0s\u001b[0m 20ms/step\n",
            "Predicted Price of NVDA for day 42: [[113.791306]]\n",
            "\u001b[1m1/1\u001b[0m \u001b[32m━━━━━━━━━━━━━━━━━━━━\u001b[0m\u001b[37m\u001b[0m \u001b[1m0s\u001b[0m 19ms/step\n",
            "Predicted Price of NVDA for day 43: [[113.7774]]\n",
            "\u001b[1m1/1\u001b[0m \u001b[32m━━━━━━━━━━━━━━━━━━━━\u001b[0m\u001b[37m\u001b[0m \u001b[1m0s\u001b[0m 19ms/step\n",
            "Predicted Price of NVDA for day 44: [[113.76379]]\n",
            "\u001b[1m1/1\u001b[0m \u001b[32m━━━━━━━━━━━━━━━━━━━━\u001b[0m\u001b[37m\u001b[0m \u001b[1m0s\u001b[0m 19ms/step\n",
            "Predicted Price of NVDA for day 45: [[113.75046]]\n",
            "\u001b[1m1/1\u001b[0m \u001b[32m━━━━━━━━━━━━━━━━━━━━\u001b[0m\u001b[37m\u001b[0m \u001b[1m0s\u001b[0m 18ms/step\n",
            "Predicted Price of NVDA for day 46: [[113.73742]]\n",
            "\u001b[1m1/1\u001b[0m \u001b[32m━━━━━━━━━━━━━━━━━━━━\u001b[0m\u001b[37m\u001b[0m \u001b[1m0s\u001b[0m 18ms/step\n",
            "Predicted Price of NVDA for day 47: [[113.72464]]\n",
            "\u001b[1m1/1\u001b[0m \u001b[32m━━━━━━━━━━━━━━━━━━━━\u001b[0m\u001b[37m\u001b[0m \u001b[1m0s\u001b[0m 19ms/step\n",
            "Predicted Price of NVDA for day 48: [[113.71211]]\n",
            "\u001b[1m1/1\u001b[0m \u001b[32m━━━━━━━━━━━━━━━━━━━━\u001b[0m\u001b[37m\u001b[0m \u001b[1m0s\u001b[0m 18ms/step\n",
            "Predicted Price of NVDA for day 49: [[113.69979]]\n",
            "\u001b[1m1/1\u001b[0m \u001b[32m━━━━━━━━━━━━━━━━━━━━\u001b[0m\u001b[37m\u001b[0m \u001b[1m0s\u001b[0m 19ms/step\n",
            "Predicted Price of NVDA for day 50: [[113.68769]]\n",
            "\u001b[1m1/1\u001b[0m \u001b[32m━━━━━━━━━━━━━━━━━━━━\u001b[0m\u001b[37m\u001b[0m \u001b[1m0s\u001b[0m 18ms/step\n",
            "Predicted Price of NVDA for day 51: [[113.6758]]\n",
            "\u001b[1m1/1\u001b[0m \u001b[32m━━━━━━━━━━━━━━━━━━━━\u001b[0m\u001b[37m\u001b[0m \u001b[1m0s\u001b[0m 19ms/step\n",
            "Predicted Price of NVDA for day 52: [[113.664085]]\n",
            "\u001b[1m1/1\u001b[0m \u001b[32m━━━━━━━━━━━━━━━━━━━━\u001b[0m\u001b[37m\u001b[0m \u001b[1m0s\u001b[0m 19ms/step\n",
            "Predicted Price of NVDA for day 53: [[113.652565]]\n",
            "\u001b[1m1/1\u001b[0m \u001b[32m━━━━━━━━━━━━━━━━━━━━\u001b[0m\u001b[37m\u001b[0m \u001b[1m0s\u001b[0m 18ms/step\n",
            "Predicted Price of NVDA for day 54: [[113.64121]]\n",
            "\u001b[1m1/1\u001b[0m \u001b[32m━━━━━━━━━━━━━━━━━━━━\u001b[0m\u001b[37m\u001b[0m \u001b[1m0s\u001b[0m 19ms/step\n",
            "Predicted Price of NVDA for day 55: [[113.630005]]\n",
            "\u001b[1m1/1\u001b[0m \u001b[32m━━━━━━━━━━━━━━━━━━━━\u001b[0m\u001b[37m\u001b[0m \u001b[1m0s\u001b[0m 18ms/step\n",
            "Predicted Price of NVDA for day 56: [[113.61897]]\n",
            "\u001b[1m1/1\u001b[0m \u001b[32m━━━━━━━━━━━━━━━━━━━━\u001b[0m\u001b[37m\u001b[0m \u001b[1m0s\u001b[0m 18ms/step\n",
            "Predicted Price of NVDA for day 57: [[113.60808]]\n",
            "\u001b[1m1/1\u001b[0m \u001b[32m━━━━━━━━━━━━━━━━━━━━\u001b[0m\u001b[37m\u001b[0m \u001b[1m0s\u001b[0m 19ms/step\n",
            "Predicted Price of NVDA for day 58: [[113.59734]]\n",
            "\u001b[1m1/1\u001b[0m \u001b[32m━━━━━━━━━━━━━━━━━━━━\u001b[0m\u001b[37m\u001b[0m \u001b[1m0s\u001b[0m 18ms/step\n",
            "Predicted Price of NVDA for day 59: [[113.58675]]\n",
            "\u001b[1m1/1\u001b[0m \u001b[32m━━━━━━━━━━━━━━━━━━━━\u001b[0m\u001b[37m\u001b[0m \u001b[1m0s\u001b[0m 18ms/step\n",
            "Predicted Price of NVDA for day 60: [[113.5763]]\n"
          ]
        }
      ],
      "source": [
        "# Initialize lists for storing the predicted prices and the dates for prediction\n",
        "future_prices = []\n",
        "# last 60 days dates \n",
        "last_60_days = dates_only_np[-60:]\n",
        "# Number of days to predict into the future\n",
        "days_to_predict = 60\n",
        "\n",
        "# Predict the prices for the next 60 days\n",
        "for i in range(days_to_predict):\n",
        "    # Make a prediction\n",
        "    X_test = np.array([last60days_scaled])\n",
        "    X_test = np.reshape(X_test, (X_test.shape[0], X_test.shape[1], 1))\n",
        "    pred_price_scaled = loaded_model.predict(X_test)\n",
        "    pred_price_unscaled = scaler.inverse_transform(pred_price_scaled)\n",
        "    \n",
        "    # Store the predicted price\n",
        "    future_prices.append(pred_price_unscaled[0][0])\n",
        "    \n",
        "    # Prepare the new input for the next prediction\n",
        "    new_input = np.append(last60days_scaled[1:], pred_price_scaled, axis=0)\n",
        "    new_input = np.reshape(new_input, (new_input.shape[0], 1))\n",
        "    last60days_scaled = new_input\n",
        "    print(f\"Predicted Price of NVDA for day {i+1}: {pred_price_unscaled}\")\n",
        "\n",
        "# Unscale last60days_scaled\n",
        "last60days_unscaled = scaler.inverse_transform(last60days_scaled)\n",
        "last60days_unscaled = last60days_unscaled.flatten()\n",
        "\n",
        "x_historical = np.arange(-60, 0)\n",
        "\n",
        "# Create x-axis values for predicted data starting from the end of historical data\n",
        "x_predicted = np.arange(len(last_60_days), len(last60days_unscaled) + days_to_predict)\n",
        "\n",
        "# Combine x-axis values and data\n",
        "x_values = np.concatenate([x_historical, x_predicted])\n",
        "y_values = np.concatenate([last60days_unscaled, future_prices])\n"
      ]
    },
    {
      "cell_type": "markdown",
      "metadata": {},
      "source": [
        "### Compare predicted price to current price to see percentage change\n"
      ]
    },
    {
      "cell_type": "code",
      "execution_count": 56,
      "metadata": {},
      "outputs": [
        {
          "name": "stdout",
          "output_type": "stream",
          "text": [
            "Last Predicted Price: 113.5763\n",
            "Latest Price from Yahoo Finance: Close    111.589996\n",
            "Name: 2024-07-29 00:00:00-04:00, dtype: float64\n",
            "Price Difference: Close   -1.780003\n",
            "Name: 2024-07-29 00:00:00-04:00, dtype: float64\n"
          ]
        }
      ],
      "source": [
        "\n",
        "latest_price = new_df.iloc[-1]\n",
        "# Get the last predicted price\n",
        "last_predicted_price = future_prices[-1]\n",
        "\n",
        "# Calculate the difference\n",
        "price_difference = (latest_price - last_predicted_price) / latest_price * 100\n",
        "\n",
        "print(\"Last Predicted Price:\", last_predicted_price)\n",
        "print(\"Latest Price from Yahoo Finance:\", latest_price)\n",
        "print(\"Price Difference:\", price_difference)"
      ]
    },
    {
      "cell_type": "code",
      "execution_count": 60,
      "metadata": {},
      "outputs": [
        {
          "name": "stdout",
          "output_type": "stream",
          "text": [
            "Running on local URL:  http://127.0.0.1:7870\n",
            "\n",
            "To create a public link, set `share=True` in `launch()`.\n"
          ]
        },
        {
          "data": {
            "text/html": [
              "<div><iframe src=\"http://127.0.0.1:7870/\" width=\"100%\" height=\"500\" allow=\"autoplay; camera; microphone; clipboard-read; clipboard-write;\" frameborder=\"0\" allowfullscreen></iframe></div>"
            ],
            "text/plain": [
              "<IPython.core.display.HTML object>"
            ]
          },
          "metadata": {},
          "output_type": "display_data"
        },
        {
          "data": {
            "text/plain": []
          },
          "execution_count": 60,
          "metadata": {},
          "output_type": "execute_result"
        }
      ],
      "source": [
        "import gradio as gr\n",
        "import pandas as pd\n",
        "\n",
        "def calculate_price_difference():\n",
        "    latest_price = new_df.iloc[-1]['Close']\n",
        "    last_predicted_price = future_prices[-1]\n",
        "\n",
        "    price_difference = (latest_price - last_predicted_price) / latest_price * 100\n",
        "\n",
        "    return last_predicted_price, latest_price, price_difference\n",
        "\n",
        "def display_results():\n",
        "    last_predicted_price, latest_price, price_difference = calculate_price_difference()\n",
        "\n",
        "    return f\"Predicted Price tomorrow: ${last_predicted_price:.2f}\\n\" \\\n",
        "           f\"Latest Price from Yahoo Finance: ${latest_price:.2f}\\n\" \\\n",
        "           f\"Price Difference: {price_difference:.2f}%\"\n",
        "\n",
        "iface = gr.Interface(\n",
        "    fn=display_results,\n",
        "    inputs=[],\n",
        "    outputs=\"text\",\n",
        "    title=\"Stock Price Prediction\",\n",
        "    description=\"Display the predicted price for tomorrow , and today's close price, and the price difference.\"\n",
        ")\n",
        "\n",
        "iface.launch()\n"
      ]
    },
    {
      "cell_type": "code",
      "execution_count": 63,
      "metadata": {},
      "outputs": [
        {
          "name": "stdout",
          "output_type": "stream",
          "text": [
            "Running on local URL:  http://127.0.0.1:7873\n",
            "\n",
            "To create a public link, set `share=True` in `launch()`.\n"
          ]
        },
        {
          "data": {
            "text/html": [
              "<div><iframe src=\"http://127.0.0.1:7873/\" width=\"100%\" height=\"500\" allow=\"autoplay; camera; microphone; clipboard-read; clipboard-write;\" frameborder=\"0\" allowfullscreen></iframe></div>"
            ],
            "text/plain": [
              "<IPython.core.display.HTML object>"
            ]
          },
          "metadata": {},
          "output_type": "display_data"
        },
        {
          "data": {
            "text/plain": []
          },
          "execution_count": 63,
          "metadata": {},
          "output_type": "execute_result"
        }
      ],
      "source": [
        "import gradio as gr\n",
        "import matplotlib.pyplot as plt\n",
        "import numpy as np\n",
        "import pandas as pd\n",
        "\n",
        "# Function to create the plot\n",
        "def plot_prices():\n",
        "    plt.figure(figsize=(12, 6))\n",
        "    plt.plot(x_values, y_values, label='Predicted Prices', color='blue', linestyle='-', marker='o')\n",
        "    plt.axvline(x=60, color='red', linestyle='--', label='Forecast Boundary')\n",
        "    plt.xlabel(\"Days\")\n",
        "    plt.ylabel(\"Price\")\n",
        "    plt.title(\"Predicted and Historical Prices\")\n",
        "    plt.grid(True)\n",
        "    plt.legend()\n",
        "    return plt\n",
        "\n",
        "# Creating a Gradio interface\n",
        "iface = gr.Interface(\n",
        "    fn=plot_prices,\n",
        "    inputs=[],\n",
        "    outputs=gr.Plot(label=\"Stock Price Plot\"),\n",
        "    title=\"NVDA Stock Price Visualization\",\n",
        "    description=\"A plot showing historical and predicted stock prices the next 60 days.\"\n",
        ")\n",
        "\n",
        "# Launching the Gradio app\n",
        "iface.launch()\n"
      ]
    },
    {
      "cell_type": "code",
      "execution_count": null,
      "metadata": {},
      "outputs": [],
      "source": []
    }
  ],
  "metadata": {
    "colab": {
      "provenance": []
    },
    "kernelspec": {
      "display_name": "Python 3",
      "name": "python3"
    },
    "language_info": {
      "codemirror_mode": {
        "name": "ipython",
        "version": 3
      },
      "file_extension": ".py",
      "mimetype": "text/x-python",
      "name": "python",
      "nbconvert_exporter": "python",
      "pygments_lexer": "ipython3",
      "version": "3.11.9"
    }
  },
  "nbformat": 4,
  "nbformat_minor": 0
}
